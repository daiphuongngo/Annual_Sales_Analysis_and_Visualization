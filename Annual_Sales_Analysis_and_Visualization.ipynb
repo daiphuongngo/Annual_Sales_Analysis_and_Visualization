{
  "nbformat": 4,
  "nbformat_minor": 0,
  "metadata": {
    "language_info": {
      "codemirror_mode": {
        "name": "ipython",
        "version": 3
      },
      "file_extension": ".py",
      "mimetype": "text/x-python",
      "name": "python",
      "nbconvert_exporter": "python",
      "pygments_lexer": "ipython3",
      "version": "3.7.6-final"
    },
    "orig_nbformat": 2,
    "kernelspec": {
      "name": "python3",
      "display_name": "Python 3",
      "language": "python"
    },
    "colab": {
      "name": "Annual Sales Analysis and Visualization.ipynb",
      "provenance": [],
      "collapsed_sections": [],
      "toc_visible": true
    }
  },
  "cells": [
    {
      "cell_type": "markdown",
      "metadata": {
        "id": "9yrxmb6RigvH"
      },
      "source": [
        "## 1: Import packages and Load data"
      ]
    },
    {
      "cell_type": "code",
      "metadata": {
        "id": "ggFQ9bGgmkz3"
      },
      "source": [
        "import pandas as pd\n",
        "import os\n",
        "import matplotlib.pyplot as plt"
      ],
      "execution_count": 68,
      "outputs": []
    },
    {
      "cell_type": "code",
      "metadata": {
        "colab": {
          "base_uri": "https://localhost:8080/"
        },
        "id": "dhWWDxBrmJiE",
        "outputId": "cc8b82fa-2579-440c-8be8-311a2432df24"
      },
      "source": [
        "from google.colab import drive\n",
        "drive.mount('/content/drive')"
      ],
      "execution_count": 69,
      "outputs": [
        {
          "output_type": "stream",
          "text": [
            "Drive already mounted at /content/drive; to attempt to forcibly remount, call drive.mount(\"/content/drive\", force_remount=True).\n"
          ],
          "name": "stdout"
        }
      ]
    },
    {
      "cell_type": "code",
      "metadata": {
        "colab": {
          "base_uri": "https://localhost:8080/",
          "height": 203
        },
        "id": "r6IV-26UmlrJ",
        "outputId": "f7d919b2-30fd-47c3-fc7a-127b42350b71"
      },
      "source": [
        "df = pd.read_csv('/content/drive/My Drive/Colab Notebooks/CoTAI/Data Science Internship CoTAI 2021/Sales Analysis/Data/sales2019_3.csv')\n",
        "df.head()"
      ],
      "execution_count": 70,
      "outputs": [
        {
          "output_type": "execute_result",
          "data": {
            "text/html": [
              "<div>\n",
              "<style scoped>\n",
              "    .dataframe tbody tr th:only-of-type {\n",
              "        vertical-align: middle;\n",
              "    }\n",
              "\n",
              "    .dataframe tbody tr th {\n",
              "        vertical-align: top;\n",
              "    }\n",
              "\n",
              "    .dataframe thead th {\n",
              "        text-align: right;\n",
              "    }\n",
              "</style>\n",
              "<table border=\"1\" class=\"dataframe\">\n",
              "  <thead>\n",
              "    <tr style=\"text-align: right;\">\n",
              "      <th></th>\n",
              "      <th>Order ID</th>\n",
              "      <th>Product</th>\n",
              "      <th>Quantity Ordered</th>\n",
              "      <th>Price Each</th>\n",
              "      <th>Order Date</th>\n",
              "      <th>Purchase Address</th>\n",
              "    </tr>\n",
              "  </thead>\n",
              "  <tbody>\n",
              "    <tr>\n",
              "      <th>0</th>\n",
              "      <td>162009</td>\n",
              "      <td>iPhone</td>\n",
              "      <td>1</td>\n",
              "      <td>700</td>\n",
              "      <td>03/28/19 20:59</td>\n",
              "      <td>942 Church St, Austin, TX 73301</td>\n",
              "    </tr>\n",
              "    <tr>\n",
              "      <th>1</th>\n",
              "      <td>162009</td>\n",
              "      <td>Lightning Charging Cable</td>\n",
              "      <td>1</td>\n",
              "      <td>14.95</td>\n",
              "      <td>03/28/19 20:59</td>\n",
              "      <td>942 Church St, Austin, TX 73301</td>\n",
              "    </tr>\n",
              "    <tr>\n",
              "      <th>2</th>\n",
              "      <td>162009</td>\n",
              "      <td>Wired Headphones</td>\n",
              "      <td>2</td>\n",
              "      <td>11.99</td>\n",
              "      <td>03/28/19 20:59</td>\n",
              "      <td>942 Church St, Austin, TX 73301</td>\n",
              "    </tr>\n",
              "    <tr>\n",
              "      <th>3</th>\n",
              "      <td>162010</td>\n",
              "      <td>Bose SoundSport Headphones</td>\n",
              "      <td>1</td>\n",
              "      <td>99.99</td>\n",
              "      <td>03/17/19 05:39</td>\n",
              "      <td>261 10th St, San Francisco, CA 94016</td>\n",
              "    </tr>\n",
              "    <tr>\n",
              "      <th>4</th>\n",
              "      <td>162011</td>\n",
              "      <td>34in Ultrawide Monitor</td>\n",
              "      <td>1</td>\n",
              "      <td>379.99</td>\n",
              "      <td>03/10/19 00:01</td>\n",
              "      <td>764 13th St, San Francisco, CA 94016</td>\n",
              "    </tr>\n",
              "  </tbody>\n",
              "</table>\n",
              "</div>"
            ],
            "text/plain": [
              "  Order ID  ...                      Purchase Address\n",
              "0   162009  ...       942 Church St, Austin, TX 73301\n",
              "1   162009  ...       942 Church St, Austin, TX 73301\n",
              "2   162009  ...       942 Church St, Austin, TX 73301\n",
              "3   162010  ...  261 10th St, San Francisco, CA 94016\n",
              "4   162011  ...  764 13th St, San Francisco, CA 94016\n",
              "\n",
              "[5 rows x 6 columns]"
            ]
          },
          "metadata": {
            "tags": []
          },
          "execution_count": 70
        }
      ]
    },
    {
      "cell_type": "code",
      "metadata": {
        "id": "nOWP6u_RigvJ",
        "colab": {
          "base_uri": "https://localhost:8080/",
          "height": 418
        },
        "outputId": "e9899df4-7669-4b11-ac76-1f4fb1246a59"
      },
      "source": [
        "df"
      ],
      "execution_count": 71,
      "outputs": [
        {
          "output_type": "execute_result",
          "data": {
            "text/html": [
              "<div>\n",
              "<style scoped>\n",
              "    .dataframe tbody tr th:only-of-type {\n",
              "        vertical-align: middle;\n",
              "    }\n",
              "\n",
              "    .dataframe tbody tr th {\n",
              "        vertical-align: top;\n",
              "    }\n",
              "\n",
              "    .dataframe thead th {\n",
              "        text-align: right;\n",
              "    }\n",
              "</style>\n",
              "<table border=\"1\" class=\"dataframe\">\n",
              "  <thead>\n",
              "    <tr style=\"text-align: right;\">\n",
              "      <th></th>\n",
              "      <th>Order ID</th>\n",
              "      <th>Product</th>\n",
              "      <th>Quantity Ordered</th>\n",
              "      <th>Price Each</th>\n",
              "      <th>Order Date</th>\n",
              "      <th>Purchase Address</th>\n",
              "    </tr>\n",
              "  </thead>\n",
              "  <tbody>\n",
              "    <tr>\n",
              "      <th>0</th>\n",
              "      <td>162009</td>\n",
              "      <td>iPhone</td>\n",
              "      <td>1</td>\n",
              "      <td>700</td>\n",
              "      <td>03/28/19 20:59</td>\n",
              "      <td>942 Church St, Austin, TX 73301</td>\n",
              "    </tr>\n",
              "    <tr>\n",
              "      <th>1</th>\n",
              "      <td>162009</td>\n",
              "      <td>Lightning Charging Cable</td>\n",
              "      <td>1</td>\n",
              "      <td>14.95</td>\n",
              "      <td>03/28/19 20:59</td>\n",
              "      <td>942 Church St, Austin, TX 73301</td>\n",
              "    </tr>\n",
              "    <tr>\n",
              "      <th>2</th>\n",
              "      <td>162009</td>\n",
              "      <td>Wired Headphones</td>\n",
              "      <td>2</td>\n",
              "      <td>11.99</td>\n",
              "      <td>03/28/19 20:59</td>\n",
              "      <td>942 Church St, Austin, TX 73301</td>\n",
              "    </tr>\n",
              "    <tr>\n",
              "      <th>3</th>\n",
              "      <td>162010</td>\n",
              "      <td>Bose SoundSport Headphones</td>\n",
              "      <td>1</td>\n",
              "      <td>99.99</td>\n",
              "      <td>03/17/19 05:39</td>\n",
              "      <td>261 10th St, San Francisco, CA 94016</td>\n",
              "    </tr>\n",
              "    <tr>\n",
              "      <th>4</th>\n",
              "      <td>162011</td>\n",
              "      <td>34in Ultrawide Monitor</td>\n",
              "      <td>1</td>\n",
              "      <td>379.99</td>\n",
              "      <td>03/10/19 00:01</td>\n",
              "      <td>764 13th St, San Francisco, CA 94016</td>\n",
              "    </tr>\n",
              "    <tr>\n",
              "      <th>...</th>\n",
              "      <td>...</td>\n",
              "      <td>...</td>\n",
              "      <td>...</td>\n",
              "      <td>...</td>\n",
              "      <td>...</td>\n",
              "      <td>...</td>\n",
              "    </tr>\n",
              "    <tr>\n",
              "      <th>15221</th>\n",
              "      <td>176554</td>\n",
              "      <td>Lightning Charging Cable</td>\n",
              "      <td>1</td>\n",
              "      <td>14.95</td>\n",
              "      <td>03/24/19 11:14</td>\n",
              "      <td>672 12th St, San Francisco, CA 94016</td>\n",
              "    </tr>\n",
              "    <tr>\n",
              "      <th>15222</th>\n",
              "      <td>176555</td>\n",
              "      <td>27in FHD Monitor</td>\n",
              "      <td>1</td>\n",
              "      <td>149.99</td>\n",
              "      <td>03/22/19 20:27</td>\n",
              "      <td>42 4th St, San Francisco, CA 94016</td>\n",
              "    </tr>\n",
              "    <tr>\n",
              "      <th>15223</th>\n",
              "      <td>176556</td>\n",
              "      <td>AAA Batteries (4-pack)</td>\n",
              "      <td>3</td>\n",
              "      <td>2.99</td>\n",
              "      <td>03/14/19 10:29</td>\n",
              "      <td>871 7th St, Los Angeles, CA 90001</td>\n",
              "    </tr>\n",
              "    <tr>\n",
              "      <th>15224</th>\n",
              "      <td>176557</td>\n",
              "      <td>iPhone</td>\n",
              "      <td>1</td>\n",
              "      <td>700</td>\n",
              "      <td>03/30/19 12:32</td>\n",
              "      <td>83 Washington St, San Francisco, CA 94016</td>\n",
              "    </tr>\n",
              "    <tr>\n",
              "      <th>15225</th>\n",
              "      <td>176557</td>\n",
              "      <td>Lightning Charging Cable</td>\n",
              "      <td>1</td>\n",
              "      <td>14.95</td>\n",
              "      <td>03/30/19 12:32</td>\n",
              "      <td>83 Washington St, San Francisco, CA 94016</td>\n",
              "    </tr>\n",
              "  </tbody>\n",
              "</table>\n",
              "<p>15226 rows × 6 columns</p>\n",
              "</div>"
            ],
            "text/plain": [
              "      Order ID  ...                           Purchase Address\n",
              "0       162009  ...            942 Church St, Austin, TX 73301\n",
              "1       162009  ...            942 Church St, Austin, TX 73301\n",
              "2       162009  ...            942 Church St, Austin, TX 73301\n",
              "3       162010  ...       261 10th St, San Francisco, CA 94016\n",
              "4       162011  ...       764 13th St, San Francisco, CA 94016\n",
              "...        ...  ...                                        ...\n",
              "15221   176554  ...       672 12th St, San Francisco, CA 94016\n",
              "15222   176555  ...         42 4th St, San Francisco, CA 94016\n",
              "15223   176556  ...          871 7th St, Los Angeles, CA 90001\n",
              "15224   176557  ...  83 Washington St, San Francisco, CA 94016\n",
              "15225   176557  ...  83 Washington St, San Francisco, CA 94016\n",
              "\n",
              "[15226 rows x 6 columns]"
            ]
          },
          "metadata": {
            "tags": []
          },
          "execution_count": 71
        }
      ]
    },
    {
      "cell_type": "markdown",
      "metadata": {
        "id": "KV73G3u-igvL"
      },
      "source": [
        "## 2: Clean and Preprocess data"
      ]
    },
    {
      "cell_type": "markdown",
      "metadata": {
        "id": "9bt5T3B7igvM"
      },
      "source": [
        "### 2.1: Merge 12-month data"
      ]
    },
    {
      "cell_type": "code",
      "metadata": {
        "id": "IyJF5d2XigvM"
      },
      "source": [
        "path = '/content/drive/My Drive/Colab Notebooks/CoTAI/Data Science Internship CoTAI 2021/Sales Analysis/Data/'\n",
        "\n",
        "frames = [] # List of all files' names \n",
        "all_length = []\n",
        "for file in os.listdir(path): # Get all directory of each file\n",
        "    if file.endswith('.csv'): # Get only files with .csv\n",
        "        filepath = path + file\n",
        "        df1 = pd.read_csv(filepath)\n",
        "        frames.append(df1) \n",
        "        result = pd.concat(frames) # Merge all dataframes into a master dataframe\n",
        "        length_1month = len(df1.index)\n",
        "        all_length.append(length_1month) # Find sum of length of all dataframes' rows\n",
        "\n",
        "result.to_csv('annualSales2019.csv', index=False) # Save the original data, the first Index column is unnecessary so it can be removed"
      ],
      "execution_count": 72,
      "outputs": []
    },
    {
      "cell_type": "code",
      "metadata": {
        "colab": {
          "base_uri": "https://localhost:8080/",
          "height": 418
        },
        "id": "D23MjNJH2gVS",
        "outputId": "666acaa6-d542-4bce-f02c-7820f42caa9d"
      },
      "source": [
        "df = result\n",
        "df"
      ],
      "execution_count": 73,
      "outputs": [
        {
          "output_type": "execute_result",
          "data": {
            "text/html": [
              "<div>\n",
              "<style scoped>\n",
              "    .dataframe tbody tr th:only-of-type {\n",
              "        vertical-align: middle;\n",
              "    }\n",
              "\n",
              "    .dataframe tbody tr th {\n",
              "        vertical-align: top;\n",
              "    }\n",
              "\n",
              "    .dataframe thead th {\n",
              "        text-align: right;\n",
              "    }\n",
              "</style>\n",
              "<table border=\"1\" class=\"dataframe\">\n",
              "  <thead>\n",
              "    <tr style=\"text-align: right;\">\n",
              "      <th></th>\n",
              "      <th>Order ID</th>\n",
              "      <th>Product</th>\n",
              "      <th>Quantity Ordered</th>\n",
              "      <th>Price Each</th>\n",
              "      <th>Order Date</th>\n",
              "      <th>Purchase Address</th>\n",
              "    </tr>\n",
              "  </thead>\n",
              "  <tbody>\n",
              "    <tr>\n",
              "      <th>0</th>\n",
              "      <td>295665</td>\n",
              "      <td>Macbook Pro Laptop</td>\n",
              "      <td>1</td>\n",
              "      <td>1700</td>\n",
              "      <td>12/30/19 00:01</td>\n",
              "      <td>136 Church St, New York City, NY 10001</td>\n",
              "    </tr>\n",
              "    <tr>\n",
              "      <th>1</th>\n",
              "      <td>295666</td>\n",
              "      <td>LG Washing Machine</td>\n",
              "      <td>1</td>\n",
              "      <td>600.0</td>\n",
              "      <td>12/29/19 07:03</td>\n",
              "      <td>562 2nd St, New York City, NY 10001</td>\n",
              "    </tr>\n",
              "    <tr>\n",
              "      <th>2</th>\n",
              "      <td>295667</td>\n",
              "      <td>USB-C Charging Cable</td>\n",
              "      <td>1</td>\n",
              "      <td>11.95</td>\n",
              "      <td>12/12/19 18:21</td>\n",
              "      <td>277 Main St, New York City, NY 10001</td>\n",
              "    </tr>\n",
              "    <tr>\n",
              "      <th>3</th>\n",
              "      <td>295668</td>\n",
              "      <td>27in FHD Monitor</td>\n",
              "      <td>1</td>\n",
              "      <td>149.99</td>\n",
              "      <td>12/22/19 15:13</td>\n",
              "      <td>410 6th St, San Francisco, CA 94016</td>\n",
              "    </tr>\n",
              "    <tr>\n",
              "      <th>4</th>\n",
              "      <td>295669</td>\n",
              "      <td>USB-C Charging Cable</td>\n",
              "      <td>1</td>\n",
              "      <td>11.95</td>\n",
              "      <td>12/18/19 12:38</td>\n",
              "      <td>43 Hill St, Atlanta, GA 30301</td>\n",
              "    </tr>\n",
              "    <tr>\n",
              "      <th>...</th>\n",
              "      <td>...</td>\n",
              "      <td>...</td>\n",
              "      <td>...</td>\n",
              "      <td>...</td>\n",
              "      <td>...</td>\n",
              "      <td>...</td>\n",
              "    </tr>\n",
              "    <tr>\n",
              "      <th>15221</th>\n",
              "      <td>176554</td>\n",
              "      <td>Lightning Charging Cable</td>\n",
              "      <td>1</td>\n",
              "      <td>14.95</td>\n",
              "      <td>03/24/19 11:14</td>\n",
              "      <td>672 12th St, San Francisco, CA 94016</td>\n",
              "    </tr>\n",
              "    <tr>\n",
              "      <th>15222</th>\n",
              "      <td>176555</td>\n",
              "      <td>27in FHD Monitor</td>\n",
              "      <td>1</td>\n",
              "      <td>149.99</td>\n",
              "      <td>03/22/19 20:27</td>\n",
              "      <td>42 4th St, San Francisco, CA 94016</td>\n",
              "    </tr>\n",
              "    <tr>\n",
              "      <th>15223</th>\n",
              "      <td>176556</td>\n",
              "      <td>AAA Batteries (4-pack)</td>\n",
              "      <td>3</td>\n",
              "      <td>2.99</td>\n",
              "      <td>03/14/19 10:29</td>\n",
              "      <td>871 7th St, Los Angeles, CA 90001</td>\n",
              "    </tr>\n",
              "    <tr>\n",
              "      <th>15224</th>\n",
              "      <td>176557</td>\n",
              "      <td>iPhone</td>\n",
              "      <td>1</td>\n",
              "      <td>700</td>\n",
              "      <td>03/30/19 12:32</td>\n",
              "      <td>83 Washington St, San Francisco, CA 94016</td>\n",
              "    </tr>\n",
              "    <tr>\n",
              "      <th>15225</th>\n",
              "      <td>176557</td>\n",
              "      <td>Lightning Charging Cable</td>\n",
              "      <td>1</td>\n",
              "      <td>14.95</td>\n",
              "      <td>03/30/19 12:32</td>\n",
              "      <td>83 Washington St, San Francisco, CA 94016</td>\n",
              "    </tr>\n",
              "  </tbody>\n",
              "</table>\n",
              "<p>186850 rows × 6 columns</p>\n",
              "</div>"
            ],
            "text/plain": [
              "      Order ID  ...                           Purchase Address\n",
              "0       295665  ...     136 Church St, New York City, NY 10001\n",
              "1       295666  ...        562 2nd St, New York City, NY 10001\n",
              "2       295667  ...       277 Main St, New York City, NY 10001\n",
              "3       295668  ...        410 6th St, San Francisco, CA 94016\n",
              "4       295669  ...              43 Hill St, Atlanta, GA 30301\n",
              "...        ...  ...                                        ...\n",
              "15221   176554  ...       672 12th St, San Francisco, CA 94016\n",
              "15222   176555  ...         42 4th St, San Francisco, CA 94016\n",
              "15223   176556  ...          871 7th St, Los Angeles, CA 90001\n",
              "15224   176557  ...  83 Washington St, San Francisco, CA 94016\n",
              "15225   176557  ...  83 Washington St, San Francisco, CA 94016\n",
              "\n",
              "[186850 rows x 6 columns]"
            ]
          },
          "metadata": {
            "tags": []
          },
          "execution_count": 73
        }
      ]
    },
    {
      "cell_type": "code",
      "metadata": {
        "colab": {
          "base_uri": "https://localhost:8080/"
        },
        "id": "s_sy1gGwisPU",
        "outputId": "379392b5-2596-45a5-e1c8-493080c56c0d"
      },
      "source": [
        "print(sum(all_length))"
      ],
      "execution_count": 74,
      "outputs": [
        {
          "output_type": "stream",
          "text": [
            "186850\n"
          ],
          "name": "stdout"
        }
      ]
    },
    {
      "cell_type": "markdown",
      "metadata": {
        "id": "8ASOSh4JjBiy"
      },
      "source": [
        "The total number of all_length is now proven to match the number of all rows in the master data frame."
      ]
    },
    {
      "cell_type": "markdown",
      "metadata": {
        "id": "Au3hBvpTigvN"
      },
      "source": [
        "### 2.2: Add 'Month' column"
      ]
    },
    {
      "cell_type": "markdown",
      "metadata": {
        "id": "YocjRH0ujifl"
      },
      "source": [
        "The Month column's type is mm/dd/yy so only 2 first indices are needed."
      ]
    },
    {
      "cell_type": "code",
      "metadata": {
        "id": "70EGbTOXigvN",
        "colab": {
          "base_uri": "https://localhost:8080/",
          "height": 203
        },
        "outputId": "df225ef5-3dd7-4439-c28a-f1ed08fcb151"
      },
      "source": [
        "df['Month'] = df['Order Date'].str[0:2]\n",
        "df.head()"
      ],
      "execution_count": 75,
      "outputs": [
        {
          "output_type": "execute_result",
          "data": {
            "text/html": [
              "<div>\n",
              "<style scoped>\n",
              "    .dataframe tbody tr th:only-of-type {\n",
              "        vertical-align: middle;\n",
              "    }\n",
              "\n",
              "    .dataframe tbody tr th {\n",
              "        vertical-align: top;\n",
              "    }\n",
              "\n",
              "    .dataframe thead th {\n",
              "        text-align: right;\n",
              "    }\n",
              "</style>\n",
              "<table border=\"1\" class=\"dataframe\">\n",
              "  <thead>\n",
              "    <tr style=\"text-align: right;\">\n",
              "      <th></th>\n",
              "      <th>Order ID</th>\n",
              "      <th>Product</th>\n",
              "      <th>Quantity Ordered</th>\n",
              "      <th>Price Each</th>\n",
              "      <th>Order Date</th>\n",
              "      <th>Purchase Address</th>\n",
              "      <th>Month</th>\n",
              "    </tr>\n",
              "  </thead>\n",
              "  <tbody>\n",
              "    <tr>\n",
              "      <th>0</th>\n",
              "      <td>295665</td>\n",
              "      <td>Macbook Pro Laptop</td>\n",
              "      <td>1</td>\n",
              "      <td>1700</td>\n",
              "      <td>12/30/19 00:01</td>\n",
              "      <td>136 Church St, New York City, NY 10001</td>\n",
              "      <td>12</td>\n",
              "    </tr>\n",
              "    <tr>\n",
              "      <th>1</th>\n",
              "      <td>295666</td>\n",
              "      <td>LG Washing Machine</td>\n",
              "      <td>1</td>\n",
              "      <td>600.0</td>\n",
              "      <td>12/29/19 07:03</td>\n",
              "      <td>562 2nd St, New York City, NY 10001</td>\n",
              "      <td>12</td>\n",
              "    </tr>\n",
              "    <tr>\n",
              "      <th>2</th>\n",
              "      <td>295667</td>\n",
              "      <td>USB-C Charging Cable</td>\n",
              "      <td>1</td>\n",
              "      <td>11.95</td>\n",
              "      <td>12/12/19 18:21</td>\n",
              "      <td>277 Main St, New York City, NY 10001</td>\n",
              "      <td>12</td>\n",
              "    </tr>\n",
              "    <tr>\n",
              "      <th>3</th>\n",
              "      <td>295668</td>\n",
              "      <td>27in FHD Monitor</td>\n",
              "      <td>1</td>\n",
              "      <td>149.99</td>\n",
              "      <td>12/22/19 15:13</td>\n",
              "      <td>410 6th St, San Francisco, CA 94016</td>\n",
              "      <td>12</td>\n",
              "    </tr>\n",
              "    <tr>\n",
              "      <th>4</th>\n",
              "      <td>295669</td>\n",
              "      <td>USB-C Charging Cable</td>\n",
              "      <td>1</td>\n",
              "      <td>11.95</td>\n",
              "      <td>12/18/19 12:38</td>\n",
              "      <td>43 Hill St, Atlanta, GA 30301</td>\n",
              "      <td>12</td>\n",
              "    </tr>\n",
              "  </tbody>\n",
              "</table>\n",
              "</div>"
            ],
            "text/plain": [
              "  Order ID               Product  ...                        Purchase Address Month\n",
              "0   295665    Macbook Pro Laptop  ...  136 Church St, New York City, NY 10001    12\n",
              "1   295666    LG Washing Machine  ...     562 2nd St, New York City, NY 10001    12\n",
              "2   295667  USB-C Charging Cable  ...    277 Main St, New York City, NY 10001    12\n",
              "3   295668      27in FHD Monitor  ...     410 6th St, San Francisco, CA 94016    12\n",
              "4   295669  USB-C Charging Cable  ...           43 Hill St, Atlanta, GA 30301    12\n",
              "\n",
              "[5 rows x 7 columns]"
            ]
          },
          "metadata": {
            "tags": []
          },
          "execution_count": 75
        }
      ]
    },
    {
      "cell_type": "markdown",
      "metadata": {
        "id": "xkETKYIxigvO"
      },
      "source": [
        "### 2.3: Get rid of 'NaN' and 'Or' value"
      ]
    },
    {
      "cell_type": "markdown",
      "metadata": {
        "id": "t1DjCfoCkC6-"
      },
      "source": [
        "Print all unique values in Month by using set"
      ]
    },
    {
      "cell_type": "code",
      "metadata": {
        "colab": {
          "base_uri": "https://localhost:8080/"
        },
        "id": "c0Dmg890j8dT",
        "outputId": "2da1d2ac-b65d-48fc-8c72-3e571f96e289"
      },
      "source": [
        "print(set(df['Month']))"
      ],
      "execution_count": 76,
      "outputs": [
        {
          "output_type": "stream",
          "text": [
            "{nan, '10', '11', '03', '12', '01', '02', '08', '04', '07', '06', 'Or', '09', '05'}\n"
          ],
          "name": "stdout"
        }
      ]
    },
    {
      "cell_type": "markdown",
      "metadata": {
        "id": "eM2mjpV9kNZi"
      },
      "source": [
        "Now remove Nan and Or"
      ]
    },
    {
      "cell_type": "code",
      "metadata": {
        "id": "QwiEaADligvO",
        "colab": {
          "base_uri": "https://localhost:8080/",
          "height": 418
        },
        "outputId": "3b0f817b-8f56-4ef6-b7f5-9297e1181c16"
      },
      "source": [
        "df = df.dropna(how='all') # Remove NaN\n",
        "df = df[df['Month'] != 'Or'] # Keep rows of Month with values different from 'Or\n",
        "df"
      ],
      "execution_count": 77,
      "outputs": [
        {
          "output_type": "execute_result",
          "data": {
            "text/html": [
              "<div>\n",
              "<style scoped>\n",
              "    .dataframe tbody tr th:only-of-type {\n",
              "        vertical-align: middle;\n",
              "    }\n",
              "\n",
              "    .dataframe tbody tr th {\n",
              "        vertical-align: top;\n",
              "    }\n",
              "\n",
              "    .dataframe thead th {\n",
              "        text-align: right;\n",
              "    }\n",
              "</style>\n",
              "<table border=\"1\" class=\"dataframe\">\n",
              "  <thead>\n",
              "    <tr style=\"text-align: right;\">\n",
              "      <th></th>\n",
              "      <th>Order ID</th>\n",
              "      <th>Product</th>\n",
              "      <th>Quantity Ordered</th>\n",
              "      <th>Price Each</th>\n",
              "      <th>Order Date</th>\n",
              "      <th>Purchase Address</th>\n",
              "      <th>Month</th>\n",
              "    </tr>\n",
              "  </thead>\n",
              "  <tbody>\n",
              "    <tr>\n",
              "      <th>0</th>\n",
              "      <td>295665</td>\n",
              "      <td>Macbook Pro Laptop</td>\n",
              "      <td>1</td>\n",
              "      <td>1700</td>\n",
              "      <td>12/30/19 00:01</td>\n",
              "      <td>136 Church St, New York City, NY 10001</td>\n",
              "      <td>12</td>\n",
              "    </tr>\n",
              "    <tr>\n",
              "      <th>1</th>\n",
              "      <td>295666</td>\n",
              "      <td>LG Washing Machine</td>\n",
              "      <td>1</td>\n",
              "      <td>600.0</td>\n",
              "      <td>12/29/19 07:03</td>\n",
              "      <td>562 2nd St, New York City, NY 10001</td>\n",
              "      <td>12</td>\n",
              "    </tr>\n",
              "    <tr>\n",
              "      <th>2</th>\n",
              "      <td>295667</td>\n",
              "      <td>USB-C Charging Cable</td>\n",
              "      <td>1</td>\n",
              "      <td>11.95</td>\n",
              "      <td>12/12/19 18:21</td>\n",
              "      <td>277 Main St, New York City, NY 10001</td>\n",
              "      <td>12</td>\n",
              "    </tr>\n",
              "    <tr>\n",
              "      <th>3</th>\n",
              "      <td>295668</td>\n",
              "      <td>27in FHD Monitor</td>\n",
              "      <td>1</td>\n",
              "      <td>149.99</td>\n",
              "      <td>12/22/19 15:13</td>\n",
              "      <td>410 6th St, San Francisco, CA 94016</td>\n",
              "      <td>12</td>\n",
              "    </tr>\n",
              "    <tr>\n",
              "      <th>4</th>\n",
              "      <td>295669</td>\n",
              "      <td>USB-C Charging Cable</td>\n",
              "      <td>1</td>\n",
              "      <td>11.95</td>\n",
              "      <td>12/18/19 12:38</td>\n",
              "      <td>43 Hill St, Atlanta, GA 30301</td>\n",
              "      <td>12</td>\n",
              "    </tr>\n",
              "    <tr>\n",
              "      <th>...</th>\n",
              "      <td>...</td>\n",
              "      <td>...</td>\n",
              "      <td>...</td>\n",
              "      <td>...</td>\n",
              "      <td>...</td>\n",
              "      <td>...</td>\n",
              "      <td>...</td>\n",
              "    </tr>\n",
              "    <tr>\n",
              "      <th>15221</th>\n",
              "      <td>176554</td>\n",
              "      <td>Lightning Charging Cable</td>\n",
              "      <td>1</td>\n",
              "      <td>14.95</td>\n",
              "      <td>03/24/19 11:14</td>\n",
              "      <td>672 12th St, San Francisco, CA 94016</td>\n",
              "      <td>03</td>\n",
              "    </tr>\n",
              "    <tr>\n",
              "      <th>15222</th>\n",
              "      <td>176555</td>\n",
              "      <td>27in FHD Monitor</td>\n",
              "      <td>1</td>\n",
              "      <td>149.99</td>\n",
              "      <td>03/22/19 20:27</td>\n",
              "      <td>42 4th St, San Francisco, CA 94016</td>\n",
              "      <td>03</td>\n",
              "    </tr>\n",
              "    <tr>\n",
              "      <th>15223</th>\n",
              "      <td>176556</td>\n",
              "      <td>AAA Batteries (4-pack)</td>\n",
              "      <td>3</td>\n",
              "      <td>2.99</td>\n",
              "      <td>03/14/19 10:29</td>\n",
              "      <td>871 7th St, Los Angeles, CA 90001</td>\n",
              "      <td>03</td>\n",
              "    </tr>\n",
              "    <tr>\n",
              "      <th>15224</th>\n",
              "      <td>176557</td>\n",
              "      <td>iPhone</td>\n",
              "      <td>1</td>\n",
              "      <td>700</td>\n",
              "      <td>03/30/19 12:32</td>\n",
              "      <td>83 Washington St, San Francisco, CA 94016</td>\n",
              "      <td>03</td>\n",
              "    </tr>\n",
              "    <tr>\n",
              "      <th>15225</th>\n",
              "      <td>176557</td>\n",
              "      <td>Lightning Charging Cable</td>\n",
              "      <td>1</td>\n",
              "      <td>14.95</td>\n",
              "      <td>03/30/19 12:32</td>\n",
              "      <td>83 Washington St, San Francisco, CA 94016</td>\n",
              "      <td>03</td>\n",
              "    </tr>\n",
              "  </tbody>\n",
              "</table>\n",
              "<p>185950 rows × 7 columns</p>\n",
              "</div>"
            ],
            "text/plain": [
              "      Order ID  ... Month\n",
              "0       295665  ...    12\n",
              "1       295666  ...    12\n",
              "2       295667  ...    12\n",
              "3       295668  ...    12\n",
              "4       295669  ...    12\n",
              "...        ...  ...   ...\n",
              "15221   176554  ...    03\n",
              "15222   176555  ...    03\n",
              "15223   176556  ...    03\n",
              "15224   176557  ...    03\n",
              "15225   176557  ...    03\n",
              "\n",
              "[185950 rows x 7 columns]"
            ]
          },
          "metadata": {
            "tags": []
          },
          "execution_count": 77
        }
      ]
    },
    {
      "cell_type": "markdown",
      "metadata": {
        "id": "oTRPsiRZigvP"
      },
      "source": [
        "## 3: Reporting"
      ]
    },
    {
      "cell_type": "markdown",
      "metadata": {
        "id": "-Gdg_T8-igvP"
      },
      "source": [
        "### 3.1: What was the best month for Sales? How much was earned on that month?"
      ]
    },
    {
      "cell_type": "markdown",
      "metadata": {
        "id": "HZqfabyAkpwP"
      },
      "source": [
        "To calculate or multiply successfully, let's check the types of 2 needed variables Quantity Ordered and Price Each.\n",
        "\n",
        "\n"
      ]
    },
    {
      "cell_type": "code",
      "metadata": {
        "colab": {
          "base_uri": "https://localhost:8080/"
        },
        "id": "ry5kWiDD0hTX",
        "outputId": "dceca53f-827b-4b7d-c5e2-931982435e81"
      },
      "source": [
        "print(df['Quantity Ordered'].dtypes)\n",
        "print(df['Price Each'].dtypes)"
      ],
      "execution_count": null,
      "outputs": [
        {
          "output_type": "stream",
          "text": [
            "object\n",
            "object\n"
          ],
          "name": "stdout"
        }
      ]
    },
    {
      "cell_type": "markdown",
      "metadata": {
        "id": "jLeAO4ZygQI8"
      },
      "source": [
        "Convert the object type into interger and float types"
      ]
    },
    {
      "cell_type": "code",
      "metadata": {
        "id": "Y7N1dpIe1PZH"
      },
      "source": [
        "df['Quantity Ordered'] = pd.to_numeric(df['Quantity Ordered'], downcast='integer')\n",
        "df['Price Each'] = pd.to_numeric(df['Price Each'], downcast='float')"
      ],
      "execution_count": 78,
      "outputs": []
    },
    {
      "cell_type": "markdown",
      "metadata": {
        "id": "y7Ht8Qtmk2u4"
      },
      "source": [
        "Let's check their types again"
      ]
    },
    {
      "cell_type": "code",
      "metadata": {
        "colab": {
          "base_uri": "https://localhost:8080/"
        },
        "id": "a_A24wj81Rf0",
        "outputId": "4f7411c9-26f6-48d8-e69e-bd0260c2b8f4"
      },
      "source": [
        "print(df['Quantity Ordered'].dtypes)\n",
        "print(df['Price Each'].dtypes)"
      ],
      "execution_count": 79,
      "outputs": [
        {
          "output_type": "stream",
          "text": [
            "int8\n",
            "float32\n"
          ],
          "name": "stdout"
        }
      ]
    },
    {
      "cell_type": "markdown",
      "metadata": {
        "id": "OM9bHEXKgVTr"
      },
      "source": [
        "Create a new Sales column from Quantity Ordered and Price each"
      ]
    },
    {
      "cell_type": "code",
      "metadata": {
        "id": "-q0h_kdT1UBT"
      },
      "source": [
        "df['Sales'] = df['Quantity Ordered'] * df['Price Each']"
      ],
      "execution_count": 80,
      "outputs": []
    },
    {
      "cell_type": "code",
      "metadata": {
        "colab": {
          "base_uri": "https://localhost:8080/",
          "height": 203
        },
        "id": "jK_Du0WI1WbS",
        "outputId": "193d825e-e1bc-4f10-c0d8-bce76de68004"
      },
      "source": [
        "df.head()"
      ],
      "execution_count": 81,
      "outputs": [
        {
          "output_type": "execute_result",
          "data": {
            "text/html": [
              "<div>\n",
              "<style scoped>\n",
              "    .dataframe tbody tr th:only-of-type {\n",
              "        vertical-align: middle;\n",
              "    }\n",
              "\n",
              "    .dataframe tbody tr th {\n",
              "        vertical-align: top;\n",
              "    }\n",
              "\n",
              "    .dataframe thead th {\n",
              "        text-align: right;\n",
              "    }\n",
              "</style>\n",
              "<table border=\"1\" class=\"dataframe\">\n",
              "  <thead>\n",
              "    <tr style=\"text-align: right;\">\n",
              "      <th></th>\n",
              "      <th>Order ID</th>\n",
              "      <th>Product</th>\n",
              "      <th>Quantity Ordered</th>\n",
              "      <th>Price Each</th>\n",
              "      <th>Order Date</th>\n",
              "      <th>Purchase Address</th>\n",
              "      <th>Month</th>\n",
              "      <th>Sales</th>\n",
              "    </tr>\n",
              "  </thead>\n",
              "  <tbody>\n",
              "    <tr>\n",
              "      <th>0</th>\n",
              "      <td>295665</td>\n",
              "      <td>Macbook Pro Laptop</td>\n",
              "      <td>1</td>\n",
              "      <td>1700.000000</td>\n",
              "      <td>12/30/19 00:01</td>\n",
              "      <td>136 Church St, New York City, NY 10001</td>\n",
              "      <td>12</td>\n",
              "      <td>1700.000000</td>\n",
              "    </tr>\n",
              "    <tr>\n",
              "      <th>1</th>\n",
              "      <td>295666</td>\n",
              "      <td>LG Washing Machine</td>\n",
              "      <td>1</td>\n",
              "      <td>600.000000</td>\n",
              "      <td>12/29/19 07:03</td>\n",
              "      <td>562 2nd St, New York City, NY 10001</td>\n",
              "      <td>12</td>\n",
              "      <td>600.000000</td>\n",
              "    </tr>\n",
              "    <tr>\n",
              "      <th>2</th>\n",
              "      <td>295667</td>\n",
              "      <td>USB-C Charging Cable</td>\n",
              "      <td>1</td>\n",
              "      <td>11.950000</td>\n",
              "      <td>12/12/19 18:21</td>\n",
              "      <td>277 Main St, New York City, NY 10001</td>\n",
              "      <td>12</td>\n",
              "      <td>11.950000</td>\n",
              "    </tr>\n",
              "    <tr>\n",
              "      <th>3</th>\n",
              "      <td>295668</td>\n",
              "      <td>27in FHD Monitor</td>\n",
              "      <td>1</td>\n",
              "      <td>149.990005</td>\n",
              "      <td>12/22/19 15:13</td>\n",
              "      <td>410 6th St, San Francisco, CA 94016</td>\n",
              "      <td>12</td>\n",
              "      <td>149.990005</td>\n",
              "    </tr>\n",
              "    <tr>\n",
              "      <th>4</th>\n",
              "      <td>295669</td>\n",
              "      <td>USB-C Charging Cable</td>\n",
              "      <td>1</td>\n",
              "      <td>11.950000</td>\n",
              "      <td>12/18/19 12:38</td>\n",
              "      <td>43 Hill St, Atlanta, GA 30301</td>\n",
              "      <td>12</td>\n",
              "      <td>11.950000</td>\n",
              "    </tr>\n",
              "  </tbody>\n",
              "</table>\n",
              "</div>"
            ],
            "text/plain": [
              "  Order ID               Product  ...  Month        Sales\n",
              "0   295665    Macbook Pro Laptop  ...     12  1700.000000\n",
              "1   295666    LG Washing Machine  ...     12   600.000000\n",
              "2   295667  USB-C Charging Cable  ...     12    11.950000\n",
              "3   295668      27in FHD Monitor  ...     12   149.990005\n",
              "4   295669  USB-C Charging Cable  ...     12    11.950000\n",
              "\n",
              "[5 rows x 8 columns]"
            ]
          },
          "metadata": {
            "tags": []
          },
          "execution_count": 81
        }
      ]
    },
    {
      "cell_type": "code",
      "metadata": {
        "colab": {
          "base_uri": "https://localhost:8080/"
        },
        "id": "NrLnB8ws1X2T",
        "outputId": "13c5a227-66c0-42e8-ac08-5a1e93c054d4"
      },
      "source": [
        "print(df['Sales'].dtypes)"
      ],
      "execution_count": 82,
      "outputs": [
        {
          "output_type": "stream",
          "text": [
            "float32\n"
          ],
          "name": "stdout"
        }
      ]
    },
    {
      "cell_type": "markdown",
      "metadata": {
        "id": "p-mRhhaqgdKr"
      },
      "source": [
        "Sales in now visible in the master data frame. But it is placed at the last column and it might be hard to see or find. We shoud then create a new data frame 'moving_colum' as a temporary data frame. The purpose of this step is to add all variables of moving_columns into the master data and place Sales variable at the index 4."
      ]
    },
    {
      "cell_type": "code",
      "metadata": {
        "colab": {
          "base_uri": "https://localhost:8080/",
          "height": 203
        },
        "id": "nBptIfjK1wZn",
        "outputId": "38645812-c20e-4410-caef-f6cd03df8e91"
      },
      "source": [
        "moving_column = df.pop('Sales')\n",
        "df.insert(4, 'Sales', moving_column)\n",
        "df.head()"
      ],
      "execution_count": 83,
      "outputs": [
        {
          "output_type": "execute_result",
          "data": {
            "text/html": [
              "<div>\n",
              "<style scoped>\n",
              "    .dataframe tbody tr th:only-of-type {\n",
              "        vertical-align: middle;\n",
              "    }\n",
              "\n",
              "    .dataframe tbody tr th {\n",
              "        vertical-align: top;\n",
              "    }\n",
              "\n",
              "    .dataframe thead th {\n",
              "        text-align: right;\n",
              "    }\n",
              "</style>\n",
              "<table border=\"1\" class=\"dataframe\">\n",
              "  <thead>\n",
              "    <tr style=\"text-align: right;\">\n",
              "      <th></th>\n",
              "      <th>Order ID</th>\n",
              "      <th>Product</th>\n",
              "      <th>Quantity Ordered</th>\n",
              "      <th>Price Each</th>\n",
              "      <th>Sales</th>\n",
              "      <th>Order Date</th>\n",
              "      <th>Purchase Address</th>\n",
              "      <th>Month</th>\n",
              "    </tr>\n",
              "  </thead>\n",
              "  <tbody>\n",
              "    <tr>\n",
              "      <th>0</th>\n",
              "      <td>295665</td>\n",
              "      <td>Macbook Pro Laptop</td>\n",
              "      <td>1</td>\n",
              "      <td>1700.000000</td>\n",
              "      <td>1700.000000</td>\n",
              "      <td>12/30/19 00:01</td>\n",
              "      <td>136 Church St, New York City, NY 10001</td>\n",
              "      <td>12</td>\n",
              "    </tr>\n",
              "    <tr>\n",
              "      <th>1</th>\n",
              "      <td>295666</td>\n",
              "      <td>LG Washing Machine</td>\n",
              "      <td>1</td>\n",
              "      <td>600.000000</td>\n",
              "      <td>600.000000</td>\n",
              "      <td>12/29/19 07:03</td>\n",
              "      <td>562 2nd St, New York City, NY 10001</td>\n",
              "      <td>12</td>\n",
              "    </tr>\n",
              "    <tr>\n",
              "      <th>2</th>\n",
              "      <td>295667</td>\n",
              "      <td>USB-C Charging Cable</td>\n",
              "      <td>1</td>\n",
              "      <td>11.950000</td>\n",
              "      <td>11.950000</td>\n",
              "      <td>12/12/19 18:21</td>\n",
              "      <td>277 Main St, New York City, NY 10001</td>\n",
              "      <td>12</td>\n",
              "    </tr>\n",
              "    <tr>\n",
              "      <th>3</th>\n",
              "      <td>295668</td>\n",
              "      <td>27in FHD Monitor</td>\n",
              "      <td>1</td>\n",
              "      <td>149.990005</td>\n",
              "      <td>149.990005</td>\n",
              "      <td>12/22/19 15:13</td>\n",
              "      <td>410 6th St, San Francisco, CA 94016</td>\n",
              "      <td>12</td>\n",
              "    </tr>\n",
              "    <tr>\n",
              "      <th>4</th>\n",
              "      <td>295669</td>\n",
              "      <td>USB-C Charging Cable</td>\n",
              "      <td>1</td>\n",
              "      <td>11.950000</td>\n",
              "      <td>11.950000</td>\n",
              "      <td>12/18/19 12:38</td>\n",
              "      <td>43 Hill St, Atlanta, GA 30301</td>\n",
              "      <td>12</td>\n",
              "    </tr>\n",
              "  </tbody>\n",
              "</table>\n",
              "</div>"
            ],
            "text/plain": [
              "  Order ID               Product  ...                        Purchase Address  Month\n",
              "0   295665    Macbook Pro Laptop  ...  136 Church St, New York City, NY 10001     12\n",
              "1   295666    LG Washing Machine  ...     562 2nd St, New York City, NY 10001     12\n",
              "2   295667  USB-C Charging Cable  ...    277 Main St, New York City, NY 10001     12\n",
              "3   295668      27in FHD Monitor  ...     410 6th St, San Francisco, CA 94016     12\n",
              "4   295669  USB-C Charging Cable  ...           43 Hill St, Atlanta, GA 30301     12\n",
              "\n",
              "[5 rows x 8 columns]"
            ]
          },
          "metadata": {
            "tags": []
          },
          "execution_count": 83
        }
      ]
    },
    {
      "cell_type": "markdown",
      "metadata": {
        "id": "lbsTgvh0lk7H"
      },
      "source": [
        "Filter data grouped by Month with each month's total Sales"
      ]
    },
    {
      "cell_type": "code",
      "metadata": {
        "colab": {
          "base_uri": "https://localhost:8080/"
        },
        "id": "_Dv8HS6C1wLw",
        "outputId": "de6317e6-610b-44e5-ed7d-f110585907a4"
      },
      "source": [
        "sales_value = df.groupby('Month').sum()['Sales']\n",
        "sales_value"
      ],
      "execution_count": 85,
      "outputs": [
        {
          "output_type": "execute_result",
          "data": {
            "text/plain": [
              "Month\n",
              "01    1822256.75\n",
              "02    2202022.50\n",
              "03    2807100.25\n",
              "04    3390670.25\n",
              "05    3152606.75\n",
              "06    2577802.25\n",
              "07    2647775.75\n",
              "08    2244467.75\n",
              "09    2097560.00\n",
              "10    3736726.75\n",
              "11    3199603.25\n",
              "12    4613443.50\n",
              "Name: Sales, dtype: float32"
            ]
          },
          "metadata": {
            "tags": []
          },
          "execution_count": 85
        }
      ]
    },
    {
      "cell_type": "code",
      "metadata": {
        "colab": {
          "base_uri": "https://localhost:8080/"
        },
        "id": "pgAPCQKX2wRo",
        "outputId": "5cee26b3-6c27-4d3e-c735-569bd1b047cf"
      },
      "source": [
        "months = range(1,13)\n",
        "months"
      ],
      "execution_count": null,
      "outputs": [
        {
          "output_type": "execute_result",
          "data": {
            "text/plain": [
              "range(1, 13)"
            ]
          },
          "metadata": {
            "tags": []
          },
          "execution_count": 58
        }
      ]
    },
    {
      "cell_type": "markdown",
      "metadata": {
        "id": "zm9Ih2b-mR7u"
      },
      "source": [
        "Find the highest Sales value of 12 months"
      ]
    },
    {
      "cell_type": "code",
      "metadata": {
        "colab": {
          "base_uri": "https://localhost:8080/"
        },
        "id": "P29K8DeBmO3d",
        "outputId": "04730b16-2679-48e7-9af9-84331b38fe09"
      },
      "source": [
        "sales_value.max()"
      ],
      "execution_count": 86,
      "outputs": [
        {
          "output_type": "execute_result",
          "data": {
            "text/plain": [
              "4613443.5"
            ]
          },
          "metadata": {
            "tags": []
          },
          "execution_count": 86
        }
      ]
    },
    {
      "cell_type": "markdown",
      "metadata": {
        "id": "n18rg8hulzVh"
      },
      "source": [
        "Months will have 12 bar charts on X axis. Sales values will be on Y axis."
      ]
    },
    {
      "cell_type": "code",
      "metadata": {
        "id": "UhXxI2deigvQ",
        "colab": {
          "base_uri": "https://localhost:8080/",
          "height": 290
        },
        "outputId": "43134678-2605-4a27-ceb8-db4b5bbf508d"
      },
      "source": [
        "plt.bar(x=months, height=sales_value)\n",
        "plt.xticks(months)\n",
        "plt.xlabel('Months')\n",
        "plt.ylabel('Sales in USD')\n",
        "plt.show()"
      ],
      "execution_count": null,
      "outputs": [
        {
          "output_type": "display_data",
          "data": {
            "image/png": "[encoded data removed]",
            "text/plain": [
              "<Figure size 432x288 with 1 Axes>"
            ]
          },
          "metadata": {
            "tags": [],
            "needs_background": "light"
          }
        }
      ]
    },
    {
      "cell_type": "markdown",
      "metadata": {
        "id": "oyA-1-ncmAo2"
      },
      "source": [
        "It can be easily seen that December had the highest Sales Value at US$ 4,613,443.5. \n",
        "\n",
        "To dive deeper into why December had the highest Sales Value. We can analyze further by the following hypotheses. \n",
        "- Holiday season (for example Christmas, New Year, etc.) might affect and have a positive correlation with the highest sales of the year, namely in December.\n",
        "- Electronics corporations launch new products in Quarter 4 so people tend to spend more in December."
      ]
    },
    {
      "cell_type": "markdown",
      "metadata": {
        "id": "m0zGp9t7igvQ"
      },
      "source": [
        "### 3.2: Which city had the best Sales of the year?"
      ]
    },
    {
      "cell_type": "markdown",
      "metadata": {
        "id": "NxYlUvStmw87"
      },
      "source": [
        "Create a new column City. First, we have to get the city name from Purchase Address which is between 2 commas. Then we will split each of its value by comma, and get the values of the city name at index 1."
      ]
    },
    {
      "cell_type": "code",
      "metadata": {
        "colab": {
          "base_uri": "https://localhost:8080/"
        },
        "id": "WGYT2W60mmtk",
        "outputId": "41b1ec11-49db-4993-bac1-6dca4dac6221"
      },
      "source": [
        "address_to_city = lambda address:address.split(',')[1]\n",
        "address_to_city"
      ],
      "execution_count": 88,
      "outputs": [
        {
          "output_type": "execute_result",
          "data": {
            "text/plain": [
              "<function __main__.<lambda>>"
            ]
          },
          "metadata": {
            "tags": []
          },
          "execution_count": 88
        }
      ]
    },
    {
      "cell_type": "markdown",
      "metadata": {
        "id": "gTVmCiGsnZus"
      },
      "source": [
        "After that, we will apply this method to all values of Purchase Address and create a new variable City to contain all new values."
      ]
    },
    {
      "cell_type": "code",
      "metadata": {
        "id": "b3rQpaipmmpl"
      },
      "source": [
        "df['City'] = df['Purchase Address'].apply(address_to_city)"
      ],
      "execution_count": 89,
      "outputs": []
    },
    {
      "cell_type": "code",
      "metadata": {
        "colab": {
          "base_uri": "https://localhost:8080/",
          "height": 203
        },
        "id": "vf3dkfjfnoQK",
        "outputId": "99ce2292-19f5-43b1-8158-553c9f4d73ba"
      },
      "source": [
        "df.head()"
      ],
      "execution_count": 91,
      "outputs": [
        {
          "output_type": "execute_result",
          "data": {
            "text/html": [
              "<div>\n",
              "<style scoped>\n",
              "    .dataframe tbody tr th:only-of-type {\n",
              "        vertical-align: middle;\n",
              "    }\n",
              "\n",
              "    .dataframe tbody tr th {\n",
              "        vertical-align: top;\n",
              "    }\n",
              "\n",
              "    .dataframe thead th {\n",
              "        text-align: right;\n",
              "    }\n",
              "</style>\n",
              "<table border=\"1\" class=\"dataframe\">\n",
              "  <thead>\n",
              "    <tr style=\"text-align: right;\">\n",
              "      <th></th>\n",
              "      <th>Order ID</th>\n",
              "      <th>Product</th>\n",
              "      <th>Quantity Ordered</th>\n",
              "      <th>Price Each</th>\n",
              "      <th>Sales</th>\n",
              "      <th>Order Date</th>\n",
              "      <th>Purchase Address</th>\n",
              "      <th>Month</th>\n",
              "      <th>City</th>\n",
              "    </tr>\n",
              "  </thead>\n",
              "  <tbody>\n",
              "    <tr>\n",
              "      <th>0</th>\n",
              "      <td>295665</td>\n",
              "      <td>Macbook Pro Laptop</td>\n",
              "      <td>1</td>\n",
              "      <td>1700.000000</td>\n",
              "      <td>1700.000000</td>\n",
              "      <td>12/30/19 00:01</td>\n",
              "      <td>136 Church St, New York City, NY 10001</td>\n",
              "      <td>12</td>\n",
              "      <td>New York City</td>\n",
              "    </tr>\n",
              "    <tr>\n",
              "      <th>1</th>\n",
              "      <td>295666</td>\n",
              "      <td>LG Washing Machine</td>\n",
              "      <td>1</td>\n",
              "      <td>600.000000</td>\n",
              "      <td>600.000000</td>\n",
              "      <td>12/29/19 07:03</td>\n",
              "      <td>562 2nd St, New York City, NY 10001</td>\n",
              "      <td>12</td>\n",
              "      <td>New York City</td>\n",
              "    </tr>\n",
              "    <tr>\n",
              "      <th>2</th>\n",
              "      <td>295667</td>\n",
              "      <td>USB-C Charging Cable</td>\n",
              "      <td>1</td>\n",
              "      <td>11.950000</td>\n",
              "      <td>11.950000</td>\n",
              "      <td>12/12/19 18:21</td>\n",
              "      <td>277 Main St, New York City, NY 10001</td>\n",
              "      <td>12</td>\n",
              "      <td>New York City</td>\n",
              "    </tr>\n",
              "    <tr>\n",
              "      <th>3</th>\n",
              "      <td>295668</td>\n",
              "      <td>27in FHD Monitor</td>\n",
              "      <td>1</td>\n",
              "      <td>149.990005</td>\n",
              "      <td>149.990005</td>\n",
              "      <td>12/22/19 15:13</td>\n",
              "      <td>410 6th St, San Francisco, CA 94016</td>\n",
              "      <td>12</td>\n",
              "      <td>San Francisco</td>\n",
              "    </tr>\n",
              "    <tr>\n",
              "      <th>4</th>\n",
              "      <td>295669</td>\n",
              "      <td>USB-C Charging Cable</td>\n",
              "      <td>1</td>\n",
              "      <td>11.950000</td>\n",
              "      <td>11.950000</td>\n",
              "      <td>12/18/19 12:38</td>\n",
              "      <td>43 Hill St, Atlanta, GA 30301</td>\n",
              "      <td>12</td>\n",
              "      <td>Atlanta</td>\n",
              "    </tr>\n",
              "  </tbody>\n",
              "</table>\n",
              "</div>"
            ],
            "text/plain": [
              "  Order ID               Product  ...  Month            City\n",
              "0   295665    Macbook Pro Laptop  ...     12   New York City\n",
              "1   295666    LG Washing Machine  ...     12   New York City\n",
              "2   295667  USB-C Charging Cable  ...     12   New York City\n",
              "3   295668      27in FHD Monitor  ...     12   San Francisco\n",
              "4   295669  USB-C Charging Cable  ...     12         Atlanta\n",
              "\n",
              "[5 rows x 9 columns]"
            ]
          },
          "metadata": {
            "tags": []
          },
          "execution_count": 91
        }
      ]
    },
    {
      "cell_type": "markdown",
      "metadata": {
        "id": "W_NMRrvcnw4P"
      },
      "source": [
        "We will use the previous method of grouping the master data frame by City with each city's total sales value."
      ]
    },
    {
      "cell_type": "code",
      "metadata": {
        "colab": {
          "base_uri": "https://localhost:8080/"
        },
        "id": "WLUVWFtqnspx",
        "outputId": "ded17a5a-3599-432b-8377-5d9b5033d899"
      },
      "source": [
        "df.groupby('City').sum()['Sales']"
      ],
      "execution_count": 92,
      "outputs": [
        {
          "output_type": "execute_result",
          "data": {
            "text/plain": [
              "City\n",
              " Atlanta          2795498.50\n",
              " Austin           1819581.75\n",
              " Boston           3661642.00\n",
              " Dallas           2767975.50\n",
              " Los Angeles      5452571.00\n",
              " New York City    4664317.50\n",
              " Portland         2320490.50\n",
              " San Francisco    8262204.00\n",
              " Seattle          2747755.50\n",
              "Name: Sales, dtype: float32"
            ]
          },
          "metadata": {
            "tags": []
          },
          "execution_count": 92
        }
      ]
    },
    {
      "cell_type": "markdown",
      "metadata": {
        "id": "mYb_fiIWoMyJ"
      },
      "source": [
        "Find the best sales by City"
      ]
    },
    {
      "cell_type": "code",
      "metadata": {
        "colab": {
          "base_uri": "https://localhost:8080/"
        },
        "id": "_UvwmyvWoC6N",
        "outputId": "e39d4669-1851-41b6-a211-95d6e3d4185f"
      },
      "source": [
        "sales_value_city = df.groupby('City').sum()['Sales']\n",
        "sales_value_city.max()"
      ],
      "execution_count": 93,
      "outputs": [
        {
          "output_type": "execute_result",
          "data": {
            "text/plain": [
              "8262204.0"
            ]
          },
          "metadata": {
            "tags": []
          },
          "execution_count": 93
        }
      ]
    },
    {
      "cell_type": "markdown",
      "metadata": {
        "id": "L21FrBU6oeRS"
      },
      "source": [
        "Print all unique city names"
      ]
    },
    {
      "cell_type": "code",
      "metadata": {
        "colab": {
          "base_uri": "https://localhost:8080/"
        },
        "id": "4D20rTi7oV6N",
        "outputId": "3048cd26-e8db-40c6-f4fe-5963d11dace5"
      },
      "source": [
        "cities = df['City'].unique()\n",
        "print(cities)"
      ],
      "execution_count": 96,
      "outputs": [
        {
          "output_type": "stream",
          "text": [
            "[' New York City' ' San Francisco' ' Atlanta' ' Portland' ' Dallas'\n",
            " ' Los Angeles' ' Boston' ' Austin' ' Seattle']\n"
          ],
          "name": "stdout"
        }
      ]
    },
    {
      "cell_type": "code",
      "metadata": {
        "colab": {
          "base_uri": "https://localhost:8080/",
          "height": 290
        },
        "id": "YJTKmsgwohlL",
        "outputId": "8b27c8c0-ca51-43d1-f53b-1431489fb470"
      },
      "source": [
        "plt.bar(x=cities, height=sales_value_city)\n",
        "plt.xticks(cities)\n",
        "plt.xlabel('Cities')\n",
        "plt.ylabel('Sales in USD')\n",
        "plt.show()"
      ],
      "execution_count": 97,
      "outputs": [
        {
          "output_type": "display_data",
          "data": {
            "image/png": "[encoded data removed]",
            "text/plain": [
              "<Figure size 432x288 with 1 Axes>"
            ]
          },
          "metadata": {
            "tags": [],
            "needs_background": "light"
          }
        }
      ]
    },
    {
      "cell_type": "markdown",
      "metadata": {
        "id": "9ZYazrsuonQp"
      },
      "source": [
        "At this stage, we can visualize City by Sales. However, we can enhance its format for a better look."
      ]
    },
    {
      "cell_type": "code",
      "metadata": {
        "colab": {
          "base_uri": "https://localhost:8080/",
          "height": 338
        },
        "id": "2-cHkp-fo9jo",
        "outputId": "a9d28965-40b8-4107-dacb-2d240bb41be3"
      },
      "source": [
        "plt.bar(x=cities, height=sales_value_city)\n",
        "plt.xticks(cities, rotation=90, size=8)\n",
        "plt.xlabel('Cities')\n",
        "plt.ylabel('Sales in USD')\n",
        "plt.show()"
      ],
      "execution_count": 98,
      "outputs": [
        {
          "output_type": "display_data",
          "data": {
            "image/png": "[encoded data removed]",
            "text/plain": [
              "<Figure size 432x288 with 1 Axes>"
            ]
          },
          "metadata": {
            "tags": [],
            "needs_background": "light"
          }
        }
      ]
    },
    {
      "cell_type": "markdown",
      "metadata": {
        "id": "u7k2b67bpY16"
      },
      "source": [
        "To make sure that the order of cities aligns with that of sales_value_city. Let's print them out."
      ]
    },
    {
      "cell_type": "code",
      "metadata": {
        "colab": {
          "base_uri": "https://localhost:8080/"
        },
        "id": "RgxTNFKspQvB",
        "outputId": "fa33ff2f-30ad-40bd-86a5-311221872329"
      },
      "source": [
        "print(cities)\n",
        "print(sales_value_city)"
      ],
      "execution_count": 99,
      "outputs": [
        {
          "output_type": "stream",
          "text": [
            "[' New York City' ' San Francisco' ' Atlanta' ' Portland' ' Dallas'\n",
            " ' Los Angeles' ' Boston' ' Austin' ' Seattle']\n",
            "City\n",
            " Atlanta          2795498.50\n",
            " Austin           1819581.75\n",
            " Boston           3661642.00\n",
            " Dallas           2767975.50\n",
            " Los Angeles      5452571.00\n",
            " New York City    4664317.50\n",
            " Portland         2320490.50\n",
            " San Francisco    8262204.00\n",
            " Seattle          2747755.50\n",
            "Name: Sales, dtype: float32\n"
          ],
          "name": "stdout"
        }
      ]
    },
    {
      "cell_type": "markdown",
      "metadata": {
        "id": "8yi7z0SZpiXx"
      },
      "source": [
        "Their city values do not align with each other. We now have to use the order of sales_value_city to get the correct order. And we will apply list comprehension to cities from sales_value_city."
      ]
    },
    {
      "cell_type": "code",
      "metadata": {
        "id": "drbYbWdxp5wD"
      },
      "source": [
        "cities = [city for city, sales in sales_value_city.items()]"
      ],
      "execution_count": 100,
      "outputs": []
    },
    {
      "cell_type": "code",
      "metadata": {
        "colab": {
          "base_uri": "https://localhost:8080/",
          "height": 338
        },
        "id": "wW2HoIlEqFhl",
        "outputId": "0873c3e9-832d-4b33-9c86-e5df3c24bd99"
      },
      "source": [
        "plt.bar(x=cities, height=sales_value_city)\n",
        "plt.xticks(cities, rotation=90, size=8)\n",
        "plt.xlabel('Cities')\n",
        "plt.ylabel('Sales in USD')\n",
        "plt.show()"
      ],
      "execution_count": 101,
      "outputs": [
        {
          "output_type": "display_data",
          "data": {
            "image/png": "[encoded data removed]",
            "text/plain": [
              "<Figure size 432x288 with 1 Axes>"
            ]
          },
          "metadata": {
            "tags": [],
            "needs_background": "light"
          }
        }
      ]
    },
    {
      "cell_type": "markdown",
      "metadata": {
        "id": "oUZP30m2qHhw"
      },
      "source": [
        "It now shows accurately that San Francisco had the highest Sales at US$ 8,262,204.\n",
        "\n",
        "To dive deeper into why San Franciso has the highest Sales Value. We can analyze further by the following hypotheses. \n",
        "- Silicon Valley is based in San Francisco.\n",
        "- There is a density of engineers in San Franciso with high income. Therefore, they tend to spend more in this city, especially on hi-tech products."
      ]
    },
    {
      "cell_type": "markdown",
      "metadata": {
        "id": "_dPYSaEuigvR"
      },
      "source": [
        "### 3.3: When was the most efficient time to display ads to maximize/optimize the possibility of customers' decisions to buy products?"
      ]
    },
    {
      "cell_type": "code",
      "metadata": {
        "colab": {
          "base_uri": "https://localhost:8080/"
        },
        "id": "bfN9tDXPsacM",
        "outputId": "4278b80c-dc3e-481c-98f7-2b61bd3d8e19"
      },
      "source": [
        "print(df['Order Date'].dtypes)"
      ],
      "execution_count": 103,
      "outputs": [
        {
          "output_type": "stream",
          "text": [
            "object\n"
          ],
          "name": "stdout"
        }
      ]
    },
    {
      "cell_type": "markdown",
      "metadata": {
        "id": "02MOx-wzr2ki"
      },
      "source": [
        "Convert Order Data into datetime type as this type has many already-built-in functions for faster and more coding efficiency."
      ]
    },
    {
      "cell_type": "code",
      "metadata": {
        "id": "p5V2_TuVr2T6"
      },
      "source": [
        "df['Order Date'] = pd.to_datetime(df['Order Date'])"
      ],
      "execution_count": 105,
      "outputs": []
    },
    {
      "cell_type": "code",
      "metadata": {
        "colab": {
          "base_uri": "https://localhost:8080/"
        },
        "id": "vrbW4Oz_spMu",
        "outputId": "94a29e37-6e02-469a-f660-2bb2da1f0ad6"
      },
      "source": [
        "print(df['Order Date'].dtypes)"
      ],
      "execution_count": 106,
      "outputs": [
        {
          "output_type": "stream",
          "text": [
            "datetime64[ns]\n"
          ],
          "name": "stdout"
        }
      ]
    },
    {
      "cell_type": "markdown",
      "metadata": {
        "id": "1iJVHGanswIG"
      },
      "source": [
        "We just need only the hour values from Order Date and create a new variable Hours to contain these values."
      ]
    },
    {
      "cell_type": "code",
      "metadata": {
        "colab": {
          "base_uri": "https://localhost:8080/",
          "height": 305
        },
        "id": "GgjwZxnXsse8",
        "outputId": "50f0c90a-504d-4556-f5eb-9ab3f5837721"
      },
      "source": [
        "df['Hours'] = df['Order Date'].dt.hour\n",
        "df.head()"
      ],
      "execution_count": 108,
      "outputs": [
        {
          "output_type": "execute_result",
          "data": {
            "text/html": [
              "<div>\n",
              "<style scoped>\n",
              "    .dataframe tbody tr th:only-of-type {\n",
              "        vertical-align: middle;\n",
              "    }\n",
              "\n",
              "    .dataframe tbody tr th {\n",
              "        vertical-align: top;\n",
              "    }\n",
              "\n",
              "    .dataframe thead th {\n",
              "        text-align: right;\n",
              "    }\n",
              "</style>\n",
              "<table border=\"1\" class=\"dataframe\">\n",
              "  <thead>\n",
              "    <tr style=\"text-align: right;\">\n",
              "      <th></th>\n",
              "      <th>Order ID</th>\n",
              "      <th>Product</th>\n",
              "      <th>Quantity Ordered</th>\n",
              "      <th>Price Each</th>\n",
              "      <th>Sales</th>\n",
              "      <th>Order Date</th>\n",
              "      <th>Purchase Address</th>\n",
              "      <th>Month</th>\n",
              "      <th>City</th>\n",
              "      <th>Hours</th>\n",
              "    </tr>\n",
              "  </thead>\n",
              "  <tbody>\n",
              "    <tr>\n",
              "      <th>0</th>\n",
              "      <td>295665</td>\n",
              "      <td>Macbook Pro Laptop</td>\n",
              "      <td>1</td>\n",
              "      <td>1700.000000</td>\n",
              "      <td>1700.000000</td>\n",
              "      <td>2019-12-30 00:01:00</td>\n",
              "      <td>136 Church St, New York City, NY 10001</td>\n",
              "      <td>12</td>\n",
              "      <td>New York City</td>\n",
              "      <td>0</td>\n",
              "    </tr>\n",
              "    <tr>\n",
              "      <th>1</th>\n",
              "      <td>295666</td>\n",
              "      <td>LG Washing Machine</td>\n",
              "      <td>1</td>\n",
              "      <td>600.000000</td>\n",
              "      <td>600.000000</td>\n",
              "      <td>2019-12-29 07:03:00</td>\n",
              "      <td>562 2nd St, New York City, NY 10001</td>\n",
              "      <td>12</td>\n",
              "      <td>New York City</td>\n",
              "      <td>7</td>\n",
              "    </tr>\n",
              "    <tr>\n",
              "      <th>2</th>\n",
              "      <td>295667</td>\n",
              "      <td>USB-C Charging Cable</td>\n",
              "      <td>1</td>\n",
              "      <td>11.950000</td>\n",
              "      <td>11.950000</td>\n",
              "      <td>2019-12-12 18:21:00</td>\n",
              "      <td>277 Main St, New York City, NY 10001</td>\n",
              "      <td>12</td>\n",
              "      <td>New York City</td>\n",
              "      <td>18</td>\n",
              "    </tr>\n",
              "    <tr>\n",
              "      <th>3</th>\n",
              "      <td>295668</td>\n",
              "      <td>27in FHD Monitor</td>\n",
              "      <td>1</td>\n",
              "      <td>149.990005</td>\n",
              "      <td>149.990005</td>\n",
              "      <td>2019-12-22 15:13:00</td>\n",
              "      <td>410 6th St, San Francisco, CA 94016</td>\n",
              "      <td>12</td>\n",
              "      <td>San Francisco</td>\n",
              "      <td>15</td>\n",
              "    </tr>\n",
              "    <tr>\n",
              "      <th>4</th>\n",
              "      <td>295669</td>\n",
              "      <td>USB-C Charging Cable</td>\n",
              "      <td>1</td>\n",
              "      <td>11.950000</td>\n",
              "      <td>11.950000</td>\n",
              "      <td>2019-12-18 12:38:00</td>\n",
              "      <td>43 Hill St, Atlanta, GA 30301</td>\n",
              "      <td>12</td>\n",
              "      <td>Atlanta</td>\n",
              "      <td>12</td>\n",
              "    </tr>\n",
              "  </tbody>\n",
              "</table>\n",
              "</div>"
            ],
            "text/plain": [
              "  Order ID               Product  Quantity Ordered  ...  Month            City Hours\n",
              "0   295665    Macbook Pro Laptop                 1  ...     12   New York City     0\n",
              "1   295666    LG Washing Machine                 1  ...     12   New York City     7\n",
              "2   295667  USB-C Charging Cable                 1  ...     12   New York City    18\n",
              "3   295668      27in FHD Monitor                 1  ...     12   San Francisco    15\n",
              "4   295669  USB-C Charging Cable                 1  ...     12         Atlanta    12\n",
              "\n",
              "[5 rows x 10 columns]"
            ]
          },
          "metadata": {
            "tags": []
          },
          "execution_count": 108
        }
      ]
    },
    {
      "cell_type": "markdown",
      "metadata": {
        "id": "UXGOcBKttKBO"
      },
      "source": [
        "We repeat the same method as the previous question."
      ]
    },
    {
      "cell_type": "code",
      "metadata": {
        "id": "LGvEq0fMtBA8"
      },
      "source": [
        "sales_value_hours = df.groupby('Hours').sum()['Sales']\n",
        "hours = [hour for hour, sales in sales_value_hours.items()]"
      ],
      "execution_count": 111,
      "outputs": []
    },
    {
      "cell_type": "code",
      "metadata": {
        "id": "FJZmBh0ZigvS",
        "colab": {
          "base_uri": "https://localhost:8080/",
          "height": 291
        },
        "outputId": "30a2799c-ce41-4ac6-a879-323e46c431bd"
      },
      "source": [
        "plt.plot(hours, sales_value_hours)\n",
        "plt.grid()\n",
        "plt.xticks(hours, rotation=90, size=8)\n",
        "plt.xlabel('Hours')\n",
        "plt.ylabel('Sales in USD')\n",
        "plt.show()"
      ],
      "execution_count": 112,
      "outputs": [
        {
          "output_type": "display_data",
          "data": {
            "image/png": "[encoded data removed]",
            "text/plain": [
              "<Figure size 432x288 with 1 Axes>"
            ]
          },
          "metadata": {
            "tags": [],
            "needs_background": "light"
          }
        }
      ]
    },
    {
      "cell_type": "markdown",
      "metadata": {
        "id": "d6KqDx9DtTaU"
      },
      "source": [
        "We are using Sum for the Sales, which means we can obtain the Total Sales within the hour. It is different from the Total Orders within the hour. Therefore, the Total Orders within the hour have more sense to be used to get an answer since we are trying to find the best hour to optimizing the number of Orders.\n",
        "\n",
        "So for this chart, we will visualize by using count instead."
      ]
    },
    {
      "cell_type": "code",
      "metadata": {
        "id": "OPBMy29duJZs"
      },
      "source": [
        "sales_value_hours = df.groupby('Hours').count()['Sales']\n",
        "hours = [hour for hour, sales in sales_value_hours.items()]"
      ],
      "execution_count": 113,
      "outputs": []
    },
    {
      "cell_type": "code",
      "metadata": {
        "colab": {
          "base_uri": "https://localhost:8080/",
          "height": 280
        },
        "id": "mS8aA0P5uMVB",
        "outputId": "9728c311-2a9e-42a0-b3f9-9efbc9b33bb6"
      },
      "source": [
        "plt.plot(hours, sales_value_hours)\n",
        "plt.grid()\n",
        "plt.xticks(hours, rotation=90, size=8)\n",
        "plt.xlabel('Hours')\n",
        "plt.ylabel('Sales in USD')\n",
        "plt.show()"
      ],
      "execution_count": 114,
      "outputs": [
        {
          "output_type": "display_data",
          "data": {
            "image/png": "[encoded data removed]",
            "text/plain": [
              "<Figure size 432x288 with 1 Axes>"
            ]
          },
          "metadata": {
            "tags": [],
            "needs_background": "light"
          }
        }
      ]
    },
    {
      "cell_type": "markdown",
      "metadata": {
        "id": "k-ck2vhCuPXD"
      },
      "source": [
        "After using count, the illustration of the line chart does not change much. But the most important thing here is to understand the question and our data.\n",
        "\n",
        "The peak of placing Orders was at 11 AM and 12 PM (during lunch break), and at 7 PM, when people got home after work. Therefore, running an ad within 30-60 minutes before these two periods can be recommended to get the most viewers."
      ]
    },
    {
      "cell_type": "code",
      "metadata": {
        "id": "KxNyd2IQigvS",
        "outputId": "03f5adab-aa2f-4368-84c6-1a4d7ed6d103"
      },
      "source": [
        "df_dup = df[df['Order ID'].duplicated(keep=False)]\n",
        "groupProduct = lambda product: ', '.join(product)\n",
        "df_dup['All Products'] = df_dup.groupby('Order ID')['Product'].transform(groupProduct)\n",
        "df_dup = df_dup[['Order ID', 'All Products']].drop_duplicates()\n",
        "df_dup['All Products'].value_counts().head(10)"
      ],
      "execution_count": null,
      "outputs": [
        {
          "output_type": "execute_result",
          "data": {
            "text/plain": [
              "iPhone, Lightning Charging Cable                        882\n",
              "Google Phone, USB-C Charging Cable                      856\n",
              "iPhone, Wired Headphones                                361\n",
              "Vareebadd Phone, USB-C Charging Cable                   312\n",
              "Google Phone, Wired Headphones                          303\n",
              "iPhone, Apple Airpods Headphones                        286\n",
              "Google Phone, Bose SoundSport Headphones                161\n",
              "Vareebadd Phone, Wired Headphones                       104\n",
              "Google Phone, USB-C Charging Cable, Wired Headphones     77\n",
              "Vareebadd Phone, Bose SoundSport Headphones              60\n",
              "Name: All Products, dtype: int64"
            ]
          },
          "metadata": {
            "tags": []
          },
          "execution_count": 10
        }
      ]
    },
    {
      "cell_type": "markdown",
      "metadata": {
        "id": "FS9K6IGfigvT"
      },
      "source": [
        "### 3.4: Which products were most sold together?"
      ]
    },
    {
      "cell_type": "markdown",
      "metadata": {
        "id": "AlGPHyT_vMpG"
      },
      "source": [
        "First, we will find items ordered on the same day, at the same time and/or with the same Order ID to obtain the items of the same Order. Now, we find the duplicated Item."
      ]
    },
    {
      "cell_type": "code",
      "metadata": {
        "colab": {
          "base_uri": "https://localhost:8080/",
          "height": 305
        },
        "id": "v0hs4mzrvBEr",
        "outputId": "225341f2-30ed-4b3c-e4b8-2af0e96a75c1"
      },
      "source": [
        "df_dup = df[df['Order ID'].duplicated(keep=False)]\n",
        "df_dup.head()"
      ],
      "execution_count": 117,
      "outputs": [
        {
          "output_type": "execute_result",
          "data": {
            "text/html": [
              "<div>\n",
              "<style scoped>\n",
              "    .dataframe tbody tr th:only-of-type {\n",
              "        vertical-align: middle;\n",
              "    }\n",
              "\n",
              "    .dataframe tbody tr th {\n",
              "        vertical-align: top;\n",
              "    }\n",
              "\n",
              "    .dataframe thead th {\n",
              "        text-align: right;\n",
              "    }\n",
              "</style>\n",
              "<table border=\"1\" class=\"dataframe\">\n",
              "  <thead>\n",
              "    <tr style=\"text-align: right;\">\n",
              "      <th></th>\n",
              "      <th>Order ID</th>\n",
              "      <th>Product</th>\n",
              "      <th>Quantity Ordered</th>\n",
              "      <th>Price Each</th>\n",
              "      <th>Sales</th>\n",
              "      <th>Order Date</th>\n",
              "      <th>Purchase Address</th>\n",
              "      <th>Month</th>\n",
              "      <th>City</th>\n",
              "      <th>Hours</th>\n",
              "    </tr>\n",
              "  </thead>\n",
              "  <tbody>\n",
              "    <tr>\n",
              "      <th>16</th>\n",
              "      <td>295681</td>\n",
              "      <td>Google Phone</td>\n",
              "      <td>1</td>\n",
              "      <td>600.000000</td>\n",
              "      <td>600.000000</td>\n",
              "      <td>2019-12-25 12:37:00</td>\n",
              "      <td>79 Elm St, Boston, MA 02215</td>\n",
              "      <td>12</td>\n",
              "      <td>Boston</td>\n",
              "      <td>12</td>\n",
              "    </tr>\n",
              "    <tr>\n",
              "      <th>17</th>\n",
              "      <td>295681</td>\n",
              "      <td>USB-C Charging Cable</td>\n",
              "      <td>1</td>\n",
              "      <td>11.950000</td>\n",
              "      <td>11.950000</td>\n",
              "      <td>2019-12-25 12:37:00</td>\n",
              "      <td>79 Elm St, Boston, MA 02215</td>\n",
              "      <td>12</td>\n",
              "      <td>Boston</td>\n",
              "      <td>12</td>\n",
              "    </tr>\n",
              "    <tr>\n",
              "      <th>18</th>\n",
              "      <td>295681</td>\n",
              "      <td>Bose SoundSport Headphones</td>\n",
              "      <td>1</td>\n",
              "      <td>99.989998</td>\n",
              "      <td>99.989998</td>\n",
              "      <td>2019-12-25 12:37:00</td>\n",
              "      <td>79 Elm St, Boston, MA 02215</td>\n",
              "      <td>12</td>\n",
              "      <td>Boston</td>\n",
              "      <td>12</td>\n",
              "    </tr>\n",
              "    <tr>\n",
              "      <th>19</th>\n",
              "      <td>295681</td>\n",
              "      <td>Wired Headphones</td>\n",
              "      <td>1</td>\n",
              "      <td>11.990000</td>\n",
              "      <td>11.990000</td>\n",
              "      <td>2019-12-25 12:37:00</td>\n",
              "      <td>79 Elm St, Boston, MA 02215</td>\n",
              "      <td>12</td>\n",
              "      <td>Boston</td>\n",
              "      <td>12</td>\n",
              "    </tr>\n",
              "    <tr>\n",
              "      <th>36</th>\n",
              "      <td>295698</td>\n",
              "      <td>Vareebadd Phone</td>\n",
              "      <td>1</td>\n",
              "      <td>400.000000</td>\n",
              "      <td>400.000000</td>\n",
              "      <td>2019-12-13 14:32:00</td>\n",
              "      <td>175 1st St, New York City, NY 10001</td>\n",
              "      <td>12</td>\n",
              "      <td>New York City</td>\n",
              "      <td>14</td>\n",
              "    </tr>\n",
              "  </tbody>\n",
              "</table>\n",
              "</div>"
            ],
            "text/plain": [
              "   Order ID                     Product  ...            City  Hours\n",
              "16   295681                Google Phone  ...          Boston     12\n",
              "17   295681        USB-C Charging Cable  ...          Boston     12\n",
              "18   295681  Bose SoundSport Headphones  ...          Boston     12\n",
              "19   295681            Wired Headphones  ...          Boston     12\n",
              "36   295698             Vareebadd Phone  ...   New York City     14\n",
              "\n",
              "[5 rows x 10 columns]"
            ]
          },
          "metadata": {
            "tags": []
          },
          "execution_count": 117
        }
      ]
    },
    {
      "cell_type": "markdown",
      "metadata": {
        "id": "Gsrzm3ygwT2b"
      },
      "source": [
        "We group all rows by Order ID and join all rows of Product by ','.\n",
        "\n",
        "If using pandas apply(), the first parameter must be a function, then we will create a new function by using lambda to get all product values into groupProduct."
      ]
    },
    {
      "cell_type": "code",
      "metadata": {
        "id": "w6oKtTMtvBc5"
      },
      "source": [
        "groupProduct = lambda product: ', '.join(product)"
      ],
      "execution_count": 118,
      "outputs": []
    },
    {
      "cell_type": "markdown",
      "metadata": {
        "id": "jjcH9MbaxS3f"
      },
      "source": [
        "However, pandas apply() returns a DataFrame while we need a return of Series to input to a new column All Products. Then, we use pandas transform() instead to return/obtain a Series."
      ]
    },
    {
      "cell_type": "code",
      "metadata": {
        "colab": {
          "base_uri": "https://localhost:8080/",
          "height": 477
        },
        "id": "I0QR_kPtxEtS",
        "outputId": "1ac390b8-15f9-43b3-997b-ad9a2c2d4281"
      },
      "source": [
        "df_dup['All Products'] = df_dup.groupby('Order ID')['Product'].transform(groupProduct)\n",
        "df_dup.head()"
      ],
      "execution_count": 119,
      "outputs": [
        {
          "output_type": "stream",
          "text": [
            "/usr/local/lib/python3.7/dist-packages/ipykernel_launcher.py:1: SettingWithCopyWarning: \n",
            "A value is trying to be set on a copy of a slice from a DataFrame.\n",
            "Try using .loc[row_indexer,col_indexer] = value instead\n",
            "\n",
            "See the caveats in the documentation: https://pandas.pydata.org/pandas-docs/stable/user_guide/indexing.html#returning-a-view-versus-a-copy\n",
            "  \"\"\"Entry point for launching an IPython kernel.\n"
          ],
          "name": "stderr"
        },
        {
          "output_type": "execute_result",
          "data": {
            "text/html": [
              "<div>\n",
              "<style scoped>\n",
              "    .dataframe tbody tr th:only-of-type {\n",
              "        vertical-align: middle;\n",
              "    }\n",
              "\n",
              "    .dataframe tbody tr th {\n",
              "        vertical-align: top;\n",
              "    }\n",
              "\n",
              "    .dataframe thead th {\n",
              "        text-align: right;\n",
              "    }\n",
              "</style>\n",
              "<table border=\"1\" class=\"dataframe\">\n",
              "  <thead>\n",
              "    <tr style=\"text-align: right;\">\n",
              "      <th></th>\n",
              "      <th>Order ID</th>\n",
              "      <th>Product</th>\n",
              "      <th>Quantity Ordered</th>\n",
              "      <th>Price Each</th>\n",
              "      <th>Sales</th>\n",
              "      <th>Order Date</th>\n",
              "      <th>Purchase Address</th>\n",
              "      <th>Month</th>\n",
              "      <th>City</th>\n",
              "      <th>Hours</th>\n",
              "      <th>All Products</th>\n",
              "    </tr>\n",
              "  </thead>\n",
              "  <tbody>\n",
              "    <tr>\n",
              "      <th>16</th>\n",
              "      <td>295681</td>\n",
              "      <td>Google Phone</td>\n",
              "      <td>1</td>\n",
              "      <td>600.000000</td>\n",
              "      <td>600.000000</td>\n",
              "      <td>2019-12-25 12:37:00</td>\n",
              "      <td>79 Elm St, Boston, MA 02215</td>\n",
              "      <td>12</td>\n",
              "      <td>Boston</td>\n",
              "      <td>12</td>\n",
              "      <td>Google Phone, USB-C Charging Cable, Bose Sound...</td>\n",
              "    </tr>\n",
              "    <tr>\n",
              "      <th>17</th>\n",
              "      <td>295681</td>\n",
              "      <td>USB-C Charging Cable</td>\n",
              "      <td>1</td>\n",
              "      <td>11.950000</td>\n",
              "      <td>11.950000</td>\n",
              "      <td>2019-12-25 12:37:00</td>\n",
              "      <td>79 Elm St, Boston, MA 02215</td>\n",
              "      <td>12</td>\n",
              "      <td>Boston</td>\n",
              "      <td>12</td>\n",
              "      <td>Google Phone, USB-C Charging Cable, Bose Sound...</td>\n",
              "    </tr>\n",
              "    <tr>\n",
              "      <th>18</th>\n",
              "      <td>295681</td>\n",
              "      <td>Bose SoundSport Headphones</td>\n",
              "      <td>1</td>\n",
              "      <td>99.989998</td>\n",
              "      <td>99.989998</td>\n",
              "      <td>2019-12-25 12:37:00</td>\n",
              "      <td>79 Elm St, Boston, MA 02215</td>\n",
              "      <td>12</td>\n",
              "      <td>Boston</td>\n",
              "      <td>12</td>\n",
              "      <td>Google Phone, USB-C Charging Cable, Bose Sound...</td>\n",
              "    </tr>\n",
              "    <tr>\n",
              "      <th>19</th>\n",
              "      <td>295681</td>\n",
              "      <td>Wired Headphones</td>\n",
              "      <td>1</td>\n",
              "      <td>11.990000</td>\n",
              "      <td>11.990000</td>\n",
              "      <td>2019-12-25 12:37:00</td>\n",
              "      <td>79 Elm St, Boston, MA 02215</td>\n",
              "      <td>12</td>\n",
              "      <td>Boston</td>\n",
              "      <td>12</td>\n",
              "      <td>Google Phone, USB-C Charging Cable, Bose Sound...</td>\n",
              "    </tr>\n",
              "    <tr>\n",
              "      <th>36</th>\n",
              "      <td>295698</td>\n",
              "      <td>Vareebadd Phone</td>\n",
              "      <td>1</td>\n",
              "      <td>400.000000</td>\n",
              "      <td>400.000000</td>\n",
              "      <td>2019-12-13 14:32:00</td>\n",
              "      <td>175 1st St, New York City, NY 10001</td>\n",
              "      <td>12</td>\n",
              "      <td>New York City</td>\n",
              "      <td>14</td>\n",
              "      <td>Vareebadd Phone, USB-C Charging Cable</td>\n",
              "    </tr>\n",
              "  </tbody>\n",
              "</table>\n",
              "</div>"
            ],
            "text/plain": [
              "   Order ID  ...                                       All Products\n",
              "16   295681  ...  Google Phone, USB-C Charging Cable, Bose Sound...\n",
              "17   295681  ...  Google Phone, USB-C Charging Cable, Bose Sound...\n",
              "18   295681  ...  Google Phone, USB-C Charging Cable, Bose Sound...\n",
              "19   295681  ...  Google Phone, USB-C Charging Cable, Bose Sound...\n",
              "36   295698  ...              Vareebadd Phone, USB-C Charging Cable\n",
              "\n",
              "[5 rows x 11 columns]"
            ]
          },
          "metadata": {
            "tags": []
          },
          "execution_count": 119
        }
      ]
    },
    {
      "cell_type": "markdown",
      "metadata": {
        "id": "-uESlDYsxuxP"
      },
      "source": [
        "Since we don't need to use other variables, except Order ID and All Products, we will delete the rest of the unnecessary variables and duplicated rows."
      ]
    },
    {
      "cell_type": "code",
      "metadata": {
        "colab": {
          "base_uri": "https://localhost:8080/",
          "height": 418
        },
        "id": "zbZZIBBGxElO",
        "outputId": "e38e17f7-5e71-4880-c6bf-fc35ac8d5759"
      },
      "source": [
        "df_dup = df_dup[['Order ID', 'All Products']].drop_duplicates()\n",
        "df_dup"
      ],
      "execution_count": 121,
      "outputs": [
        {
          "output_type": "execute_result",
          "data": {
            "text/html": [
              "<div>\n",
              "<style scoped>\n",
              "    .dataframe tbody tr th:only-of-type {\n",
              "        vertical-align: middle;\n",
              "    }\n",
              "\n",
              "    .dataframe tbody tr th {\n",
              "        vertical-align: top;\n",
              "    }\n",
              "\n",
              "    .dataframe thead th {\n",
              "        text-align: right;\n",
              "    }\n",
              "</style>\n",
              "<table border=\"1\" class=\"dataframe\">\n",
              "  <thead>\n",
              "    <tr style=\"text-align: right;\">\n",
              "      <th></th>\n",
              "      <th>Order ID</th>\n",
              "      <th>All Products</th>\n",
              "    </tr>\n",
              "  </thead>\n",
              "  <tbody>\n",
              "    <tr>\n",
              "      <th>16</th>\n",
              "      <td>295681</td>\n",
              "      <td>Google Phone, USB-C Charging Cable, Bose Sound...</td>\n",
              "    </tr>\n",
              "    <tr>\n",
              "      <th>36</th>\n",
              "      <td>295698</td>\n",
              "      <td>Vareebadd Phone, USB-C Charging Cable</td>\n",
              "    </tr>\n",
              "    <tr>\n",
              "      <th>42</th>\n",
              "      <td>295703</td>\n",
              "      <td>AA Batteries (4-pack), Bose SoundSport Headphones</td>\n",
              "    </tr>\n",
              "    <tr>\n",
              "      <th>66</th>\n",
              "      <td>295726</td>\n",
              "      <td>iPhone, Lightning Charging Cable</td>\n",
              "    </tr>\n",
              "    <tr>\n",
              "      <th>76</th>\n",
              "      <td>295735</td>\n",
              "      <td>iPhone, Apple Airpods Headphones, Wired Headph...</td>\n",
              "    </tr>\n",
              "    <tr>\n",
              "      <th>...</th>\n",
              "      <td>...</td>\n",
              "      <td>...</td>\n",
              "    </tr>\n",
              "    <tr>\n",
              "      <th>15147</th>\n",
              "      <td>176484</td>\n",
              "      <td>iPhone, Wired Headphones</td>\n",
              "    </tr>\n",
              "    <tr>\n",
              "      <th>15150</th>\n",
              "      <td>176486</td>\n",
              "      <td>Bose SoundSport Headphones, Apple Airpods Head...</td>\n",
              "    </tr>\n",
              "    <tr>\n",
              "      <th>15152</th>\n",
              "      <td>176487</td>\n",
              "      <td>iPhone, Lightning Charging Cable</td>\n",
              "    </tr>\n",
              "    <tr>\n",
              "      <th>15203</th>\n",
              "      <td>176537</td>\n",
              "      <td>Apple Airpods Headphones, Apple Airpods Headph...</td>\n",
              "    </tr>\n",
              "    <tr>\n",
              "      <th>15224</th>\n",
              "      <td>176557</td>\n",
              "      <td>iPhone, Lightning Charging Cable</td>\n",
              "    </tr>\n",
              "  </tbody>\n",
              "</table>\n",
              "<p>7136 rows × 2 columns</p>\n",
              "</div>"
            ],
            "text/plain": [
              "      Order ID                                       All Products\n",
              "16      295681  Google Phone, USB-C Charging Cable, Bose Sound...\n",
              "36      295698              Vareebadd Phone, USB-C Charging Cable\n",
              "42      295703  AA Batteries (4-pack), Bose SoundSport Headphones\n",
              "66      295726                   iPhone, Lightning Charging Cable\n",
              "76      295735  iPhone, Apple Airpods Headphones, Wired Headph...\n",
              "...        ...                                                ...\n",
              "15147   176484                           iPhone, Wired Headphones\n",
              "15150   176486  Bose SoundSport Headphones, Apple Airpods Head...\n",
              "15152   176487                   iPhone, Lightning Charging Cable\n",
              "15203   176537  Apple Airpods Headphones, Apple Airpods Headph...\n",
              "15224   176557                   iPhone, Lightning Charging Cable\n",
              "\n",
              "[7136 rows x 2 columns]"
            ]
          },
          "metadata": {
            "tags": []
          },
          "execution_count": 121
        }
      ]
    },
    {
      "cell_type": "markdown",
      "metadata": {
        "id": "VkjkPAcyyK7r"
      },
      "source": [
        "Print the top 10 of best-selling products by using value_counts()"
      ]
    },
    {
      "cell_type": "code",
      "metadata": {
        "colab": {
          "base_uri": "https://localhost:8080/"
        },
        "id": "2wUjXd2XyKUM",
        "outputId": "a3065731-0b1e-422e-c9c8-89d1ae4bb9c9"
      },
      "source": [
        "df_dup['All Products'].value_counts().head(10)"
      ],
      "execution_count": 122,
      "outputs": [
        {
          "output_type": "execute_result",
          "data": {
            "text/plain": [
              "iPhone, Lightning Charging Cable                        882\n",
              "Google Phone, USB-C Charging Cable                      856\n",
              "iPhone, Wired Headphones                                361\n",
              "Vareebadd Phone, USB-C Charging Cable                   312\n",
              "Google Phone, Wired Headphones                          303\n",
              "iPhone, Apple Airpods Headphones                        286\n",
              "Google Phone, Bose SoundSport Headphones                161\n",
              "Vareebadd Phone, Wired Headphones                       104\n",
              "Google Phone, USB-C Charging Cable, Wired Headphones     77\n",
              "Vareebadd Phone, Bose SoundSport Headphones              60\n",
              "Name: All Products, dtype: int64"
            ]
          },
          "metadata": {
            "tags": []
          },
          "execution_count": 122
        }
      ]
    },
    {
      "cell_type": "markdown",
      "metadata": {
        "id": "OFKE_B_1y0x3"
      },
      "source": [
        "It returns the top-selling products which were sold at the same time within the same order. Then we can identify the best sellers and the other less sold items. Companies can sell their products in a combo to push sales for both best sellers and the less common items. Or they can place promotion on a combo while keeping the regular price of their single purchased product to raise demand for buying a combo rather than a single item."
      ]
    },
    {
      "cell_type": "markdown",
      "metadata": {
        "id": "umSXOQx_igvT"
      },
      "source": [
        "### 3.5: Which product was sold the most? Why do you think it was the best-selling product?"
      ]
    },
    {
      "cell_type": "markdown",
      "metadata": {
        "id": "VB0E_RwozsXd"
      },
      "source": [
        "This is simply handled by grouping the data frame by Product with each product's total Quantity Ordered."
      ]
    },
    {
      "cell_type": "code",
      "metadata": {
        "colab": {
          "base_uri": "https://localhost:8080/"
        },
        "id": "5ti1Vkr2zf7W",
        "outputId": "1684d030-a8b1-44dc-e7f4-35c2c16179be"
      },
      "source": [
        "all_products = df.groupby('Product').sum()['Quantity Ordered']\n",
        "all_products"
      ],
      "execution_count": 124,
      "outputs": [
        {
          "output_type": "execute_result",
          "data": {
            "text/plain": [
              "Product\n",
              "20in Monitor                   4129.0\n",
              "27in 4K Gaming Monitor         6244.0\n",
              "27in FHD Monitor               7550.0\n",
              "34in Ultrawide Monitor         6199.0\n",
              "AA Batteries (4-pack)         27635.0\n",
              "AAA Batteries (4-pack)        31017.0\n",
              "Apple Airpods Headphones      15661.0\n",
              "Bose SoundSport Headphones    13457.0\n",
              "Flatscreen TV                  4819.0\n",
              "Google Phone                   5532.0\n",
              "LG Dryer                        646.0\n",
              "LG Washing Machine              666.0\n",
              "Lightning Charging Cable      23217.0\n",
              "Macbook Pro Laptop             4728.0\n",
              "ThinkPad Laptop                4130.0\n",
              "USB-C Charging Cable          23975.0\n",
              "Vareebadd Phone                2068.0\n",
              "Wired Headphones              20557.0\n",
              "iPhone                         6849.0\n",
              "Name: Quantity Ordered, dtype: float64"
            ]
          },
          "metadata": {
            "tags": []
          },
          "execution_count": 124
        }
      ]
    },
    {
      "cell_type": "markdown",
      "metadata": {
        "id": "phIbOTgMz4XU"
      },
      "source": [
        "We repeat the same method on prices and products list."
      ]
    },
    {
      "cell_type": "code",
      "metadata": {
        "colab": {
          "base_uri": "https://localhost:8080/"
        },
        "id": "pByg_gH9zftr",
        "outputId": "d8a1d089-440b-46a4-f019-3bfcab3a3a38"
      },
      "source": [
        "prices = df.groupby('Product').mean()['Price Each']\n",
        "prices"
      ],
      "execution_count": 126,
      "outputs": [
        {
          "output_type": "execute_result",
          "data": {
            "text/plain": [
              "Product\n",
              "20in Monitor                   109.989998\n",
              "27in 4K Gaming Monitor         389.989990\n",
              "27in FHD Monitor               149.990005\n",
              "34in Ultrawide Monitor         379.989990\n",
              "AA Batteries (4-pack)            3.840000\n",
              "AAA Batteries (4-pack)           2.990000\n",
              "Apple Airpods Headphones       150.000000\n",
              "Bose SoundSport Headphones      99.989998\n",
              "Flatscreen TV                  300.000000\n",
              "Google Phone                   600.000000\n",
              "LG Dryer                       600.000000\n",
              "LG Washing Machine             600.000000\n",
              "Lightning Charging Cable        14.950000\n",
              "Macbook Pro Laptop            1700.000000\n",
              "ThinkPad Laptop                999.989990\n",
              "USB-C Charging Cable            11.950000\n",
              "Vareebadd Phone                400.000000\n",
              "Wired Headphones                11.990000\n",
              "iPhone                         700.000000\n",
              "Name: Price Each, dtype: float32"
            ]
          },
          "metadata": {
            "tags": []
          },
          "execution_count": 126
        }
      ]
    },
    {
      "cell_type": "code",
      "metadata": {
        "colab": {
          "base_uri": "https://localhost:8080/"
        },
        "id": "RJO5jwji0AZE",
        "outputId": "99040725-c414-423f-8abe-a41df41b1722"
      },
      "source": [
        "products_ls = [product for product, quant in all_products.items()]\n",
        "products_ls"
      ],
      "execution_count": 128,
      "outputs": [
        {
          "output_type": "execute_result",
          "data": {
            "text/plain": [
              "['20in Monitor',\n",
              " '27in 4K Gaming Monitor',\n",
              " '27in FHD Monitor',\n",
              " '34in Ultrawide Monitor',\n",
              " 'AA Batteries (4-pack)',\n",
              " 'AAA Batteries (4-pack)',\n",
              " 'Apple Airpods Headphones',\n",
              " 'Bose SoundSport Headphones',\n",
              " 'Flatscreen TV',\n",
              " 'Google Phone',\n",
              " 'LG Dryer',\n",
              " 'LG Washing Machine',\n",
              " 'Lightning Charging Cable',\n",
              " 'Macbook Pro Laptop',\n",
              " 'ThinkPad Laptop',\n",
              " 'USB-C Charging Cable',\n",
              " 'Vareebadd Phone',\n",
              " 'Wired Headphones',\n",
              " 'iPhone']"
            ]
          },
          "metadata": {
            "tags": []
          },
          "execution_count": 128
        }
      ]
    },
    {
      "cell_type": "code",
      "metadata": {
        "colab": {
          "base_uri": "https://localhost:8080/",
          "height": 391
        },
        "id": "6ylAVGVP0HYa",
        "outputId": "c478724d-1f11-4b1e-eebf-9686de647252"
      },
      "source": [
        "x = products_ls\n",
        "y1 = all_products\n",
        "y2 = prices\n",
        "\n",
        "fig, ax1 = plt.subplots()\n",
        "\n",
        "ax2 = ax1.twinx()\n",
        "ax1.bar(x, y1, color='g')\n",
        "ax2.plot(x, y2, 'b-')\n",
        "\n",
        "ax1.set_xticklabels(products_ls, rotation=90, size=8)\n",
        "ax1.set_xlabel('Products')\n",
        "ax1.set_ylabel('Quantity Ordered', color='g')\n",
        "ax2.set_ylabel('Price Each', color='b')\n",
        "\n",
        "plt.show()"
      ],
      "execution_count": 129,
      "outputs": [
        {
          "output_type": "display_data",
          "data": {
            "image/png": "[encoded data removed]",
            "text/plain": [
              "<Figure size 432x288 with 2 Axes>"
            ]
          },
          "metadata": {
            "tags": [],
            "needs_background": "light"
          }
        }
      ]
    },
    {
      "cell_type": "markdown",
      "metadata": {
        "id": "G96v7JL80QQI"
      },
      "source": [
        "Instead of plotting on bar charts of Products and Quantity Order, we will add a line chart of Price of each product to demonstrate the correlation between Products, Quantity and Price.\n",
        "\n",
        "Look at the plot, we can see a correlation between the Products' Prices and their Volumes. The AA and AAA Batteries have the highest Volumes Ordered while other pricey products have both low quantities and revenues.\n",
        "\n",
        "As we do not have other data of other factors or criteria such as brand quality to research and analyze further, so far that is the sum-up of our conclusion."
      ]
    },
    {
      "cell_type": "code",
      "metadata": {
        "id": "aA4p_98f1QK9"
      },
      "source": [
        ""
      ],
      "execution_count": null,
      "outputs": []
    }
  ]
}